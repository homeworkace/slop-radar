{
 "cells": [
  {
   "cell_type": "markdown",
   "id": "a890c483-8fcb-4b7b-a545-f7ef774edefd",
   "metadata": {},
   "source": [
    "# Installing requirements"
   ]
  },
  {
   "cell_type": "code",
   "execution_count": 1,
   "id": "5b8be1a6-8630-4a97-b05c-1aa2e18a6b86",
   "metadata": {},
   "outputs": [],
   "source": [
    "dataset_path = 'dataset.json'\n",
    "batch_dataset_path = 'batch_dataset.json'"
   ]
  },
  {
   "cell_type": "code",
   "execution_count": 2,
   "id": "c239a68b-1f68-4550-a536-5343688fe180",
   "metadata": {},
   "outputs": [
    {
     "name": "stdout",
     "output_type": "stream",
     "text": [
      "Requirement already satisfied: huggingface_hub in c:\\users\\homeworkace\\appdata\\local\\programs\\python\\python310\\lib\\site-packages (0.26.5)\n",
      "Requirement already satisfied: requests in c:\\users\\homeworkace\\appdata\\local\\programs\\python\\python310\\lib\\site-packages (from huggingface_hub) (2.32.3)\n",
      "Requirement already satisfied: packaging>=20.9 in c:\\users\\homeworkace\\appdata\\local\\programs\\python\\python310\\lib\\site-packages (from huggingface_hub) (24.0)\n",
      "Requirement already satisfied: fsspec>=2023.5.0 in c:\\users\\homeworkace\\appdata\\local\\programs\\python\\python310\\lib\\site-packages (from huggingface_hub) (2024.9.0)\n",
      "Requirement already satisfied: filelock in c:\\users\\homeworkace\\appdata\\local\\programs\\python\\python310\\lib\\site-packages (from huggingface_hub) (3.13.3)\n",
      "Requirement already satisfied: typing-extensions>=3.7.4.3 in c:\\users\\homeworkace\\appdata\\local\\programs\\python\\python310\\lib\\site-packages (from huggingface_hub) (4.8.0)\n",
      "Requirement already satisfied: tqdm>=4.42.1 in c:\\users\\homeworkace\\appdata\\local\\programs\\python\\python310\\lib\\site-packages (from huggingface_hub) (4.67.1)\n",
      "Requirement already satisfied: pyyaml>=5.1 in c:\\users\\homeworkace\\appdata\\local\\programs\\python\\python310\\lib\\site-packages (from huggingface_hub) (6.0)\n",
      "Requirement already satisfied: colorama in c:\\users\\homeworkace\\appdata\\local\\programs\\python\\python310\\lib\\site-packages (from tqdm>=4.42.1->huggingface_hub) (0.4.6)\n",
      "Requirement already satisfied: urllib3<3,>=1.21.1 in c:\\users\\homeworkace\\appdata\\local\\programs\\python\\python310\\lib\\site-packages (from requests->huggingface_hub) (2.2.1)\n",
      "Requirement already satisfied: charset-normalizer<4,>=2 in c:\\users\\homeworkace\\appdata\\local\\programs\\python\\python310\\lib\\site-packages (from requests->huggingface_hub) (2.1.1)\n",
      "Requirement already satisfied: certifi>=2017.4.17 in c:\\users\\homeworkace\\appdata\\local\\programs\\python\\python310\\lib\\site-packages (from requests->huggingface_hub) (2023.7.22)\n",
      "Requirement already satisfied: idna<4,>=2.5 in c:\\users\\homeworkace\\appdata\\local\\programs\\python\\python310\\lib\\site-packages (from requests->huggingface_hub) (2.10)\n"
     ]
    },
    {
     "name": "stderr",
     "output_type": "stream",
     "text": [
      "WARNING: You are using pip version 21.2.4; however, version 24.3.1 is available.\n",
      "You should consider upgrading via the 'C:\\Users\\Homeworkace\\AppData\\Local\\Programs\\Python\\Python310\\python.exe -m pip install --upgrade pip' command.\n"
     ]
    },
    {
     "name": "stdout",
     "output_type": "stream",
     "text": [
      "Requirement already satisfied: datasets in c:\\users\\homeworkace\\appdata\\local\\programs\\python\\python310\\lib\\site-packages (3.2.0)\n",
      "Requirement already satisfied: pyarrow>=15.0.0 in c:\\users\\homeworkace\\appdata\\local\\programs\\python\\python310\\lib\\site-packages (from datasets) (18.1.0)\n",
      "Requirement already satisfied: filelock in c:\\users\\homeworkace\\appdata\\local\\programs\\python\\python310\\lib\\site-packages (from datasets) (3.13.3)\n",
      "Requirement already satisfied: multiprocess<0.70.17 in c:\\users\\homeworkace\\appdata\\local\\programs\\python\\python310\\lib\\site-packages (from datasets) (0.70.16)\n",
      "Requirement already satisfied: numpy>=1.17 in c:\\users\\homeworkace\\appdata\\local\\programs\\python\\python310\\lib\\site-packages (from datasets) (1.23.3)\n",
      "Requirement already satisfied: pyyaml>=5.1 in c:\\users\\homeworkace\\appdata\\local\\programs\\python\\python310\\lib\\site-packages (from datasets) (6.0)\n",
      "Requirement already satisfied: dill<0.3.9,>=0.3.0 in c:\\users\\homeworkace\\appdata\\local\\programs\\python\\python310\\lib\\site-packages (from datasets) (0.3.8)\n",
      "Requirement already satisfied: requests>=2.32.2 in c:\\users\\homeworkace\\appdata\\local\\programs\\python\\python310\\lib\\site-packages (from datasets) (2.32.3)\n",
      "Requirement already satisfied: aiohttp in c:\\users\\homeworkace\\appdata\\local\\programs\\python\\python310\\lib\\site-packages (from datasets) (3.8.3)\n",
      "Requirement already satisfied: huggingface-hub>=0.23.0 in c:\\users\\homeworkace\\appdata\\local\\programs\\python\\python310\\lib\\site-packages (from datasets) (0.26.5)\n",
      "Requirement already satisfied: packaging in c:\\users\\homeworkace\\appdata\\local\\programs\\python\\python310\\lib\\site-packages (from datasets) (24.0)\n",
      "Requirement already satisfied: xxhash in c:\\users\\homeworkace\\appdata\\local\\programs\\python\\python310\\lib\\site-packages (from datasets) (3.5.0)\n",
      "Requirement already satisfied: pandas in c:\\users\\homeworkace\\appdata\\local\\programs\\python\\python310\\lib\\site-packages (from datasets) (1.5.2)\n",
      "Requirement already satisfied: fsspec[http]<=2024.9.0,>=2023.1.0 in c:\\users\\homeworkace\\appdata\\local\\programs\\python\\python310\\lib\\site-packages (from datasets) (2024.9.0)\n",
      "Requirement already satisfied: tqdm>=4.66.3 in c:\\users\\homeworkace\\appdata\\local\\programs\\python\\python310\\lib\\site-packages (from datasets) (4.67.1)\n",
      "Requirement already satisfied: async-timeout<5.0,>=4.0.0a3 in c:\\users\\homeworkace\\appdata\\local\\programs\\python\\python310\\lib\\site-packages (from aiohttp->datasets) (4.0.2)\n",
      "Requirement already satisfied: charset-normalizer<3.0,>=2.0 in c:\\users\\homeworkace\\appdata\\local\\programs\\python\\python310\\lib\\site-packages (from aiohttp->datasets) (2.1.1)\n",
      "Requirement already satisfied: attrs>=17.3.0 in c:\\users\\homeworkace\\appdata\\local\\programs\\python\\python310\\lib\\site-packages (from aiohttp->datasets) (24.2.0)\n",
      "Requirement already satisfied: multidict<7.0,>=4.5 in c:\\users\\homeworkace\\appdata\\local\\programs\\python\\python310\\lib\\site-packages (from aiohttp->datasets) (6.0.3)\n",
      "Requirement already satisfied: frozenlist>=1.1.1 in c:\\users\\homeworkace\\appdata\\local\\programs\\python\\python310\\lib\\site-packages (from aiohttp->datasets) (1.3.3)\n",
      "Requirement already satisfied: aiosignal>=1.1.2 in c:\\users\\homeworkace\\appdata\\local\\programs\\python\\python310\\lib\\site-packages (from aiohttp->datasets) (1.3.1)\n",
      "Requirement already satisfied: yarl<2.0,>=1.0 in c:\\users\\homeworkace\\appdata\\local\\programs\\python\\python310\\lib\\site-packages (from aiohttp->datasets) (1.8.2)\n",
      "Requirement already satisfied: typing-extensions>=3.7.4.3 in c:\\users\\homeworkace\\appdata\\local\\programs\\python\\python310\\lib\\site-packages (from huggingface-hub>=0.23.0->datasets) (4.8.0)\n",
      "Requirement already satisfied: idna<4,>=2.5 in c:\\users\\homeworkace\\appdata\\local\\programs\\python\\python310\\lib\\site-packages (from requests>=2.32.2->datasets) (2.10)\n",
      "Requirement already satisfied: urllib3<3,>=1.21.1 in c:\\users\\homeworkace\\appdata\\local\\programs\\python\\python310\\lib\\site-packages (from requests>=2.32.2->datasets) (2.2.1)\n",
      "Requirement already satisfied: certifi>=2017.4.17 in c:\\users\\homeworkace\\appdata\\local\\programs\\python\\python310\\lib\\site-packages (from requests>=2.32.2->datasets) (2023.7.22)\n",
      "Requirement already satisfied: colorama in c:\\users\\homeworkace\\appdata\\local\\programs\\python\\python310\\lib\\site-packages (from tqdm>=4.66.3->datasets) (0.4.6)\n",
      "Requirement already satisfied: python-dateutil>=2.8.1 in c:\\users\\homeworkace\\appdata\\local\\programs\\python\\python310\\lib\\site-packages (from pandas->datasets) (2.8.2)\n",
      "Requirement already satisfied: pytz>=2020.1 in c:\\users\\homeworkace\\appdata\\local\\programs\\python\\python310\\lib\\site-packages (from pandas->datasets) (2022.6)\n",
      "Requirement already satisfied: six>=1.5 in c:\\users\\homeworkace\\appdata\\local\\programs\\python\\python310\\lib\\site-packages (from python-dateutil>=2.8.1->pandas->datasets) (1.16.0)\n"
     ]
    },
    {
     "name": "stderr",
     "output_type": "stream",
     "text": [
      "WARNING: You are using pip version 21.2.4; however, version 24.3.1 is available.\n",
      "You should consider upgrading via the 'C:\\Users\\Homeworkace\\AppData\\Local\\Programs\\Python\\Python310\\python.exe -m pip install --upgrade pip' command.\n"
     ]
    },
    {
     "name": "stdout",
     "output_type": "stream",
     "text": [
      "Requirement already satisfied: scikit-learn in c:\\users\\homeworkace\\appdata\\local\\programs\\python\\python310\\lib\\site-packages (1.3.1)\n",
      "Requirement already satisfied: joblib>=1.1.1 in c:\\users\\homeworkace\\appdata\\local\\programs\\python\\python310\\lib\\site-packages (from scikit-learn) (1.3.2)\n",
      "Requirement already satisfied: numpy<2.0,>=1.17.3 in c:\\users\\homeworkace\\appdata\\local\\programs\\python\\python310\\lib\\site-packages (from scikit-learn) (1.23.3)\n",
      "Requirement already satisfied: threadpoolctl>=2.0.0 in c:\\users\\homeworkace\\appdata\\local\\programs\\python\\python310\\lib\\site-packages (from scikit-learn) (3.2.0)\n",
      "Requirement already satisfied: scipy>=1.5.0 in c:\\users\\homeworkace\\appdata\\local\\programs\\python\\python310\\lib\\site-packages (from scikit-learn) (1.9.3)\n"
     ]
    },
    {
     "name": "stderr",
     "output_type": "stream",
     "text": [
      "WARNING: You are using pip version 21.2.4; however, version 24.3.1 is available.\n",
      "You should consider upgrading via the 'C:\\Users\\Homeworkace\\AppData\\Local\\Programs\\Python\\Python310\\python.exe -m pip install --upgrade pip' command.\n",
      "WARNING: You are using pip version 21.2.4; however, version 24.3.1 is available.\n",
      "You should consider upgrading via the 'C:\\Users\\Homeworkace\\AppData\\Local\\Programs\\Python\\Python310\\python.exe -m pip install --upgrade pip' command.\n"
     ]
    },
    {
     "name": "stdout",
     "output_type": "stream",
     "text": [
      "Requirement already satisfied: matplotlib in c:\\users\\homeworkace\\appdata\\local\\programs\\python\\python310\\lib\\site-packages (3.6.2)\n",
      "Requirement already satisfied: packaging>=20.0 in c:\\users\\homeworkace\\appdata\\local\\programs\\python\\python310\\lib\\site-packages (from matplotlib) (24.0)\n",
      "Requirement already satisfied: pillow>=6.2.0 in c:\\users\\homeworkace\\appdata\\local\\programs\\python\\python310\\lib\\site-packages (from matplotlib) (9.5.0)\n",
      "Requirement already satisfied: fonttools>=4.22.0 in c:\\users\\homeworkace\\appdata\\local\\programs\\python\\python310\\lib\\site-packages (from matplotlib) (4.38.0)\n",
      "Requirement already satisfied: numpy>=1.19 in c:\\users\\homeworkace\\appdata\\local\\programs\\python\\python310\\lib\\site-packages (from matplotlib) (1.23.3)\n",
      "Requirement already satisfied: python-dateutil>=2.7 in c:\\users\\homeworkace\\appdata\\local\\programs\\python\\python310\\lib\\site-packages (from matplotlib) (2.8.2)\n",
      "Requirement already satisfied: contourpy>=1.0.1 in c:\\users\\homeworkace\\appdata\\local\\programs\\python\\python310\\lib\\site-packages (from matplotlib) (1.0.6)\n",
      "Requirement already satisfied: cycler>=0.10 in c:\\users\\homeworkace\\appdata\\local\\programs\\python\\python310\\lib\\site-packages (from matplotlib) (0.11.0)\n",
      "Requirement already satisfied: kiwisolver>=1.0.1 in c:\\users\\homeworkace\\appdata\\local\\programs\\python\\python310\\lib\\site-packages (from matplotlib) (1.4.4)\n",
      "Requirement already satisfied: pyparsing>=2.2.1 in c:\\users\\homeworkace\\appdata\\local\\programs\\python\\python310\\lib\\site-packages (from matplotlib) (3.0.9)\n",
      "Requirement already satisfied: six>=1.5 in c:\\users\\homeworkace\\appdata\\local\\programs\\python\\python310\\lib\\site-packages (from python-dateutil>=2.7->matplotlib) (1.16.0)\n"
     ]
    }
   ],
   "source": [
    "!pip install huggingface_hub\n",
    "!pip install datasets\n",
    "!pip install scikit-learn\n",
    "!pip install matplotlib\n",
    "\n",
    "from pathlib import Path\n",
    "from huggingface_hub import notebook_login\n",
    "import datasets\n",
    "import warnings\n",
    "from tqdm import tqdm, TqdmWarning\n",
    "warnings.filterwarnings('ignore', category = TqdmWarning)\n",
    "import numpy as np\n",
    "import pandas as pd\n",
    "import json\n",
    "from sklearn.feature_extraction.text import CountVectorizer\n",
    "import random\n",
    "import matplotlib.pyplot as plt\n",
    "import matplotlib.colors as colors"
   ]
  },
  {
   "cell_type": "markdown",
   "id": "96e3ba1c-efc1-461f-98e2-9f98aa943001",
   "metadata": {},
   "source": [
    "# Download the dataset"
   ]
  },
  {
   "cell_type": "code",
   "execution_count": 3,
   "id": "05a9727e-86e4-4b5f-a2bf-3b2a29b8716e",
   "metadata": {
    "scrolled": true
   },
   "outputs": [],
   "source": [
    "if Path(dataset_path).exists() :\n",
    "    dataset = pd.read_json(dataset_path)\n",
    "else :\n",
    "    notebook_login()\n",
    "    hugging_face_dataset = datasets.load_dataset('lmsys/chatbot_arena_conversations')\n",
    "    dataset = hugging_face_dataset['train'].to_pandas()\n",
    "    dataset.to_json(dataset_path)"
   ]
  },
  {
   "cell_type": "code",
   "execution_count": 4,
   "id": "25810d5d-4f05-45f7-b69d-75b16ac4d49f",
   "metadata": {},
   "outputs": [
    {
     "data": {
      "text/html": [
       "<div>\n",
       "<style scoped>\n",
       "    .dataframe tbody tr th:only-of-type {\n",
       "        vertical-align: middle;\n",
       "    }\n",
       "\n",
       "    .dataframe tbody tr th {\n",
       "        vertical-align: top;\n",
       "    }\n",
       "\n",
       "    .dataframe thead th {\n",
       "        text-align: right;\n",
       "    }\n",
       "</style>\n",
       "<table border=\"1\" class=\"dataframe\">\n",
       "  <thead>\n",
       "    <tr style=\"text-align: right;\">\n",
       "      <th></th>\n",
       "      <th>question_id</th>\n",
       "      <th>model_a</th>\n",
       "      <th>model_b</th>\n",
       "      <th>winner</th>\n",
       "      <th>judge</th>\n",
       "      <th>conversation_a</th>\n",
       "      <th>conversation_b</th>\n",
       "      <th>turn</th>\n",
       "      <th>anony</th>\n",
       "      <th>language</th>\n",
       "      <th>tstamp</th>\n",
       "      <th>openai_moderation</th>\n",
       "      <th>toxic_chat_tag</th>\n",
       "    </tr>\n",
       "  </thead>\n",
       "  <tbody>\n",
       "    <tr>\n",
       "      <th>33</th>\n",
       "      <td>8120899314f74641b09c2aa114d4d253</td>\n",
       "      <td>alpaca-13b</td>\n",
       "      <td>vicuna-13b</td>\n",
       "      <td>model_b</td>\n",
       "      <td>arena_user_316</td>\n",
       "      <td>[{'content': 'Salut ! Comment ça va ce matin ?...</td>\n",
       "      <td>[{'content': 'Salut ! Comment ça va ce matin ?...</td>\n",
       "      <td>6</td>\n",
       "      <td>True</td>\n",
       "      <td>French</td>\n",
       "      <td>1.682354e+09</td>\n",
       "      <td>{'categories': {'harassment': False, 'harassme...</td>\n",
       "      <td>{'roberta-large': {'flagged': False, 'probabil...</td>\n",
       "    </tr>\n",
       "  </tbody>\n",
       "</table>\n",
       "</div>"
      ],
      "text/plain": [
       "                         question_id     model_a     model_b   winner  \\\n",
       "33  8120899314f74641b09c2aa114d4d253  alpaca-13b  vicuna-13b  model_b   \n",
       "\n",
       "             judge                                     conversation_a  \\\n",
       "33  arena_user_316  [{'content': 'Salut ! Comment ça va ce matin ?...   \n",
       "\n",
       "                                       conversation_b  turn  anony language  \\\n",
       "33  [{'content': 'Salut ! Comment ça va ce matin ?...     6   True   French   \n",
       "\n",
       "          tstamp                                  openai_moderation  \\\n",
       "33  1.682354e+09  {'categories': {'harassment': False, 'harassme...   \n",
       "\n",
       "                                       toxic_chat_tag  \n",
       "33  {'roberta-large': {'flagged': False, 'probabil...  "
      ]
     },
     "execution_count": 4,
     "metadata": {},
     "output_type": "execute_result"
    }
   ],
   "source": [
    "dataset[dataset['turn'] > 3][:1]"
   ]
  },
  {
   "cell_type": "markdown",
   "id": "33cff15e-f869-42f2-8e2b-df557967b169",
   "metadata": {},
   "source": [
    "# Create text-author pairs"
   ]
  },
  {
   "cell_type": "code",
   "execution_count": 41,
   "id": "d29aeca5-eec7-476e-9480-826fe4589729",
   "metadata": {},
   "outputs": [],
   "source": [
    "# Initialize an empty list for processed data\n",
    "text_author_pairs = []\n",
    "\n",
    "# Iterate through each row of the DataFrame\n",
    "for _, row in dataset.iterrows():\n",
    "    # Process conversation_a (assistant role)\n",
    "    for message in row[\"conversation_a\"]:\n",
    "        if message[\"role\"] == \"assistant\":\n",
    "            text_author_pairs.append({\n",
    "                \"text\": message[\"content\"],\n",
    "                \"author\": row[\"model_a\"]\n",
    "            })\n",
    "        else :\n",
    "            # Process user messages (common across both conversations)\n",
    "            text_author_pairs.append({\n",
    "                \"text\": message[\"content\"],\n",
    "                \"author\": \"human\"\n",
    "            })\n",
    "\n",
    "    # Process conversation_b (assistant role)\n",
    "    for message in row[\"conversation_b\"]:\n",
    "        if message[\"role\"] == \"assistant\":\n",
    "            text_author_pairs.append({\n",
    "                \"text\": message[\"content\"],\n",
    "                \"author\": row[\"model_b\"]\n",
    "            })\n",
    "\n",
    "random.seed(0)\n",
    "random.shuffle(text_author_pairs)"
   ]
  },
  {
   "cell_type": "markdown",
   "id": "8779269b-827d-44a0-842a-7007c968ace0",
   "metadata": {},
   "source": [
    "# Create token count vectors for each text"
   ]
  },
  {
   "cell_type": "code",
   "execution_count": 42,
   "id": "68220c4b-c0da-4024-8ee0-cf878edcc662",
   "metadata": {},
   "outputs": [
    {
     "name": "stdout",
     "output_type": "stream",
     "text": [
      "Populating batches...\n"
     ]
    },
    {
     "name": "stderr",
     "output_type": "stream",
     "text": [
      "100%|████████████████████████████████████████████████████████████████████████| 117948/117948 [01:12<00:00, 1621.39it/s]\n"
     ]
    },
    {
     "name": "stdout",
     "output_type": "stream",
     "text": [
      "Converting into DataFrame...\n"
     ]
    },
    {
     "name": "stderr",
     "output_type": "stream",
     "text": [
      "100%|██████████████████████████████████████████████████████████████████████████████| 591/591 [00:00<00:00, 3077.43it/s]\n"
     ]
    },
    {
     "data": {
      "text/html": [
       "<div>\n",
       "<style scoped>\n",
       "    .dataframe tbody tr th:only-of-type {\n",
       "        vertical-align: middle;\n",
       "    }\n",
       "\n",
       "    .dataframe tbody tr th {\n",
       "        vertical-align: top;\n",
       "    }\n",
       "\n",
       "    .dataframe thead th {\n",
       "        text-align: right;\n",
       "    }\n",
       "</style>\n",
       "<table border=\"1\" class=\"dataframe\">\n",
       "  <thead>\n",
       "    <tr style=\"text-align: right;\">\n",
       "      <th></th>\n",
       "      <th>0_human</th>\n",
       "      <th>0_claude-instant-v1</th>\n",
       "      <th>0_RWKV-4-Raven-14B</th>\n",
       "      <th>0_oasst-pythia-12b</th>\n",
       "      <th>0_chatglm-6b</th>\n",
       "      <th>0_palm-2</th>\n",
       "      <th>0_dolly-v2-12b</th>\n",
       "      <th>0_koala-13b</th>\n",
       "      <th>0_wizardlm-13b</th>\n",
       "      <th>0_alpaca-13b</th>\n",
       "      <th>...</th>\n",
       "      <th>190_human</th>\n",
       "      <th>28_oasst-pythia-12b</th>\n",
       "      <th>191_human</th>\n",
       "      <th>32_koala-13b</th>\n",
       "      <th>192_human</th>\n",
       "      <th>35_vicuna-13b</th>\n",
       "      <th>193_human</th>\n",
       "      <th>194_human</th>\n",
       "      <th>195_human</th>\n",
       "      <th>196_human</th>\n",
       "    </tr>\n",
       "  </thead>\n",
       "  <tbody>\n",
       "    <tr>\n",
       "      <th>00</th>\n",
       "      <td>1</td>\n",
       "      <td>0</td>\n",
       "      <td>0</td>\n",
       "      <td>2</td>\n",
       "      <td>0</td>\n",
       "      <td>7</td>\n",
       "      <td>0</td>\n",
       "      <td>2</td>\n",
       "      <td>3</td>\n",
       "      <td>0</td>\n",
       "      <td>...</td>\n",
       "      <td>2</td>\n",
       "      <td>0</td>\n",
       "      <td>0</td>\n",
       "      <td>0</td>\n",
       "      <td>1</td>\n",
       "      <td>0</td>\n",
       "      <td>0</td>\n",
       "      <td>10</td>\n",
       "      <td>1</td>\n",
       "      <td>50</td>\n",
       "    </tr>\n",
       "    <tr>\n",
       "      <th>000</th>\n",
       "      <td>0</td>\n",
       "      <td>12</td>\n",
       "      <td>4</td>\n",
       "      <td>6</td>\n",
       "      <td>0</td>\n",
       "      <td>8</td>\n",
       "      <td>1</td>\n",
       "      <td>6</td>\n",
       "      <td>5</td>\n",
       "      <td>3</td>\n",
       "      <td>...</td>\n",
       "      <td>11</td>\n",
       "      <td>2</td>\n",
       "      <td>0</td>\n",
       "      <td>8</td>\n",
       "      <td>0</td>\n",
       "      <td>5</td>\n",
       "      <td>3</td>\n",
       "      <td>0</td>\n",
       "      <td>0</td>\n",
       "      <td>0</td>\n",
       "    </tr>\n",
       "    <tr>\n",
       "      <th>0000</th>\n",
       "      <td>0</td>\n",
       "      <td>0</td>\n",
       "      <td>0</td>\n",
       "      <td>0</td>\n",
       "      <td>0</td>\n",
       "      <td>1</td>\n",
       "      <td>0</td>\n",
       "      <td>0</td>\n",
       "      <td>0</td>\n",
       "      <td>0</td>\n",
       "      <td>...</td>\n",
       "      <td>0</td>\n",
       "      <td>0</td>\n",
       "      <td>0</td>\n",
       "      <td>0</td>\n",
       "      <td>0</td>\n",
       "      <td>0</td>\n",
       "      <td>0</td>\n",
       "      <td>0</td>\n",
       "      <td>0</td>\n",
       "      <td>0</td>\n",
       "    </tr>\n",
       "    <tr>\n",
       "      <th>00000</th>\n",
       "      <td>0</td>\n",
       "      <td>0</td>\n",
       "      <td>0</td>\n",
       "      <td>0</td>\n",
       "      <td>0</td>\n",
       "      <td>0</td>\n",
       "      <td>0</td>\n",
       "      <td>0</td>\n",
       "      <td>0</td>\n",
       "      <td>0</td>\n",
       "      <td>...</td>\n",
       "      <td>0</td>\n",
       "      <td>0</td>\n",
       "      <td>0</td>\n",
       "      <td>0</td>\n",
       "      <td>0</td>\n",
       "      <td>0</td>\n",
       "      <td>0</td>\n",
       "      <td>0</td>\n",
       "      <td>0</td>\n",
       "      <td>0</td>\n",
       "    </tr>\n",
       "    <tr>\n",
       "      <th>000000</th>\n",
       "      <td>0</td>\n",
       "      <td>0</td>\n",
       "      <td>0</td>\n",
       "      <td>0</td>\n",
       "      <td>0</td>\n",
       "      <td>0</td>\n",
       "      <td>0</td>\n",
       "      <td>0</td>\n",
       "      <td>0</td>\n",
       "      <td>0</td>\n",
       "      <td>...</td>\n",
       "      <td>0</td>\n",
       "      <td>0</td>\n",
       "      <td>0</td>\n",
       "      <td>0</td>\n",
       "      <td>0</td>\n",
       "      <td>0</td>\n",
       "      <td>0</td>\n",
       "      <td>0</td>\n",
       "      <td>0</td>\n",
       "      <td>0</td>\n",
       "    </tr>\n",
       "    <tr>\n",
       "      <th>...</th>\n",
       "      <td>...</td>\n",
       "      <td>...</td>\n",
       "      <td>...</td>\n",
       "      <td>...</td>\n",
       "      <td>...</td>\n",
       "      <td>...</td>\n",
       "      <td>...</td>\n",
       "      <td>...</td>\n",
       "      <td>...</td>\n",
       "      <td>...</td>\n",
       "      <td>...</td>\n",
       "      <td>...</td>\n",
       "      <td>...</td>\n",
       "      <td>...</td>\n",
       "      <td>...</td>\n",
       "      <td>...</td>\n",
       "      <td>...</td>\n",
       "      <td>...</td>\n",
       "      <td>...</td>\n",
       "      <td>...</td>\n",
       "      <td>...</td>\n",
       "    </tr>\n",
       "    <tr>\n",
       "      <th>ｔｏ</th>\n",
       "      <td>0</td>\n",
       "      <td>0</td>\n",
       "      <td>0</td>\n",
       "      <td>0</td>\n",
       "      <td>0</td>\n",
       "      <td>0</td>\n",
       "      <td>0</td>\n",
       "      <td>0</td>\n",
       "      <td>0</td>\n",
       "      <td>0</td>\n",
       "      <td>...</td>\n",
       "      <td>0</td>\n",
       "      <td>0</td>\n",
       "      <td>0</td>\n",
       "      <td>0</td>\n",
       "      <td>0</td>\n",
       "      <td>0</td>\n",
       "      <td>0</td>\n",
       "      <td>0</td>\n",
       "      <td>0</td>\n",
       "      <td>0</td>\n",
       "    </tr>\n",
       "    <tr>\n",
       "      <th>ｗｅｅｋｓ</th>\n",
       "      <td>0</td>\n",
       "      <td>0</td>\n",
       "      <td>0</td>\n",
       "      <td>0</td>\n",
       "      <td>0</td>\n",
       "      <td>0</td>\n",
       "      <td>0</td>\n",
       "      <td>0</td>\n",
       "      <td>0</td>\n",
       "      <td>0</td>\n",
       "      <td>...</td>\n",
       "      <td>0</td>\n",
       "      <td>0</td>\n",
       "      <td>0</td>\n",
       "      <td>0</td>\n",
       "      <td>0</td>\n",
       "      <td>0</td>\n",
       "      <td>0</td>\n",
       "      <td>0</td>\n",
       "      <td>0</td>\n",
       "      <td>0</td>\n",
       "    </tr>\n",
       "    <tr>\n",
       "      <th>𝘀𝗶𝗺𝗽𝗹𝗲</th>\n",
       "      <td>0</td>\n",
       "      <td>0</td>\n",
       "      <td>0</td>\n",
       "      <td>0</td>\n",
       "      <td>0</td>\n",
       "      <td>0</td>\n",
       "      <td>0</td>\n",
       "      <td>0</td>\n",
       "      <td>0</td>\n",
       "      <td>0</td>\n",
       "      <td>...</td>\n",
       "      <td>0</td>\n",
       "      <td>0</td>\n",
       "      <td>0</td>\n",
       "      <td>0</td>\n",
       "      <td>0</td>\n",
       "      <td>0</td>\n",
       "      <td>0</td>\n",
       "      <td>0</td>\n",
       "      <td>0</td>\n",
       "      <td>0</td>\n",
       "    </tr>\n",
       "    <tr>\n",
       "      <th>𝘀𝘂𝗽𝗲𝗿𝗵𝘂𝗺𝗮𝗻</th>\n",
       "      <td>0</td>\n",
       "      <td>0</td>\n",
       "      <td>0</td>\n",
       "      <td>0</td>\n",
       "      <td>0</td>\n",
       "      <td>0</td>\n",
       "      <td>0</td>\n",
       "      <td>0</td>\n",
       "      <td>0</td>\n",
       "      <td>0</td>\n",
       "      <td>...</td>\n",
       "      <td>0</td>\n",
       "      <td>0</td>\n",
       "      <td>0</td>\n",
       "      <td>0</td>\n",
       "      <td>0</td>\n",
       "      <td>0</td>\n",
       "      <td>0</td>\n",
       "      <td>0</td>\n",
       "      <td>0</td>\n",
       "      <td>0</td>\n",
       "    </tr>\n",
       "    <tr>\n",
       "      <th>𝘀𝘂𝗽𝗲𝗿𝗵𝘂𝗺𝗮𝗻𝘀</th>\n",
       "      <td>0</td>\n",
       "      <td>0</td>\n",
       "      <td>0</td>\n",
       "      <td>0</td>\n",
       "      <td>0</td>\n",
       "      <td>0</td>\n",
       "      <td>0</td>\n",
       "      <td>0</td>\n",
       "      <td>0</td>\n",
       "      <td>0</td>\n",
       "      <td>...</td>\n",
       "      <td>0</td>\n",
       "      <td>0</td>\n",
       "      <td>0</td>\n",
       "      <td>0</td>\n",
       "      <td>0</td>\n",
       "      <td>0</td>\n",
       "      <td>0</td>\n",
       "      <td>0</td>\n",
       "      <td>0</td>\n",
       "      <td>0</td>\n",
       "    </tr>\n",
       "  </tbody>\n",
       "</table>\n",
       "<p>195411 rows × 591 columns</p>\n",
       "</div>"
      ],
      "text/plain": [
       "             0_human  0_claude-instant-v1  0_RWKV-4-Raven-14B  \\\n",
       "00                 1                    0                   0   \n",
       "000                0                   12                   4   \n",
       "0000               0                    0                   0   \n",
       "00000              0                    0                   0   \n",
       "000000             0                    0                   0   \n",
       "...              ...                  ...                 ...   \n",
       "ｔｏ                 0                    0                   0   \n",
       "ｗｅｅｋｓ              0                    0                   0   \n",
       "𝘀𝗶𝗺𝗽𝗹𝗲             0                    0                   0   \n",
       "𝘀𝘂𝗽𝗲𝗿𝗵𝘂𝗺𝗮𝗻         0                    0                   0   \n",
       "𝘀𝘂𝗽𝗲𝗿𝗵𝘂𝗺𝗮𝗻𝘀        0                    0                   0   \n",
       "\n",
       "             0_oasst-pythia-12b  0_chatglm-6b  0_palm-2  0_dolly-v2-12b  \\\n",
       "00                            2             0         7               0   \n",
       "000                           6             0         8               1   \n",
       "0000                          0             0         1               0   \n",
       "00000                         0             0         0               0   \n",
       "000000                        0             0         0               0   \n",
       "...                         ...           ...       ...             ...   \n",
       "ｔｏ                            0             0         0               0   \n",
       "ｗｅｅｋｓ                         0             0         0               0   \n",
       "𝘀𝗶𝗺𝗽𝗹𝗲                        0             0         0               0   \n",
       "𝘀𝘂𝗽𝗲𝗿𝗵𝘂𝗺𝗮𝗻                    0             0         0               0   \n",
       "𝘀𝘂𝗽𝗲𝗿𝗵𝘂𝗺𝗮𝗻𝘀                   0             0         0               0   \n",
       "\n",
       "             0_koala-13b  0_wizardlm-13b  0_alpaca-13b  ...  190_human  \\\n",
       "00                     2               3             0  ...          2   \n",
       "000                    6               5             3  ...         11   \n",
       "0000                   0               0             0  ...          0   \n",
       "00000                  0               0             0  ...          0   \n",
       "000000                 0               0             0  ...          0   \n",
       "...                  ...             ...           ...  ...        ...   \n",
       "ｔｏ                     0               0             0  ...          0   \n",
       "ｗｅｅｋｓ                  0               0             0  ...          0   \n",
       "𝘀𝗶𝗺𝗽𝗹𝗲                 0               0             0  ...          0   \n",
       "𝘀𝘂𝗽𝗲𝗿𝗵𝘂𝗺𝗮𝗻             0               0             0  ...          0   \n",
       "𝘀𝘂𝗽𝗲𝗿𝗵𝘂𝗺𝗮𝗻𝘀            0               0             0  ...          0   \n",
       "\n",
       "             28_oasst-pythia-12b  191_human  32_koala-13b  192_human  \\\n",
       "00                             0          0             0          1   \n",
       "000                            2          0             8          0   \n",
       "0000                           0          0             0          0   \n",
       "00000                          0          0             0          0   \n",
       "000000                         0          0             0          0   \n",
       "...                          ...        ...           ...        ...   \n",
       "ｔｏ                             0          0             0          0   \n",
       "ｗｅｅｋｓ                          0          0             0          0   \n",
       "𝘀𝗶𝗺𝗽𝗹𝗲                         0          0             0          0   \n",
       "𝘀𝘂𝗽𝗲𝗿𝗵𝘂𝗺𝗮𝗻                     0          0             0          0   \n",
       "𝘀𝘂𝗽𝗲𝗿𝗵𝘂𝗺𝗮𝗻𝘀                    0          0             0          0   \n",
       "\n",
       "             35_vicuna-13b  193_human  194_human  195_human  196_human  \n",
       "00                       0          0         10          1         50  \n",
       "000                      5          3          0          0          0  \n",
       "0000                     0          0          0          0          0  \n",
       "00000                    0          0          0          0          0  \n",
       "000000                   0          0          0          0          0  \n",
       "...                    ...        ...        ...        ...        ...  \n",
       "ｔｏ                       0          0          0          0          0  \n",
       "ｗｅｅｋｓ                    0          0          0          0          0  \n",
       "𝘀𝗶𝗺𝗽𝗹𝗲                   0          0          0          0          0  \n",
       "𝘀𝘂𝗽𝗲𝗿𝗵𝘂𝗺𝗮𝗻               0          0          0          0          0  \n",
       "𝘀𝘂𝗽𝗲𝗿𝗵𝘂𝗺𝗮𝗻𝘀              0          0          0          0          0  \n",
       "\n",
       "[195411 rows x 591 columns]"
      ]
     },
     "execution_count": 42,
     "metadata": {},
     "output_type": "execute_result"
    }
   ],
   "source": [
    "# Extract texts and their authors\n",
    "texts = [entry['text'] for entry in text_author_pairs]\n",
    "authors = [entry['author'] for entry in text_author_pairs]\n",
    "\n",
    "# Vectorize the paragraphs\n",
    "vectoriser = CountVectorizer()\n",
    "text_vectors = vectoriser.fit_transform(texts)  # Each row is a text\n",
    "\n",
    "# Allocate quotas for each batch.\n",
    "batch_count = {} \n",
    "for author in list(set(authors)) :\n",
    "    # Find out how many batches of 200 texts are needed.\n",
    "    number_of_batches = round(authors.count(author) / 200)\n",
    "    for i in range(number_of_batches) :\n",
    "        # Distribute the remainder/shortfall evenly.\n",
    "        batch_count[str(i) + '_' + author] = np.floor((i + 1) * authors.count(author) / number_of_batches)\n",
    "        for j in range(i) :\n",
    "            # Subtract the count of previous batches.\n",
    "            batch_count[str(i) + '_' + author] -= batch_count[str(j) + '_' + author]\n",
    "        \n",
    "print('Populating batches...')\n",
    "batch_vectors = {}\n",
    "batch_quota = batch_count.copy()\n",
    "for i, author in enumerate(tqdm(authors)):\n",
    "    batch_to_insert = [name for name in batch_quota if author in name and batch_quota[name] > 0][0]\n",
    "    if batch_to_insert in batch_vectors:\n",
    "        # The resulting vectors represent the number of times each token appears in that author's entire corpus.\n",
    "        batch_vectors[batch_to_insert] += text_vectors[i].toarray()\n",
    "    else:\n",
    "        # Add this new batch to the list.\n",
    "        batch_vectors[batch_to_insert] = text_vectors[i].toarray()\n",
    "    batch_quota[batch_to_insert] -= 1\n",
    "\n",
    "# Convert to a dataframe\n",
    "print('Converting into DataFrame...')\n",
    "batch_dataset = pd.DataFrame({name: vector.flatten() for name, vector in tqdm(batch_vectors.items())}, index = vectoriser.get_feature_names_out())\n",
    "\n",
    "batch_dataset"
   ]
  },
  {
   "cell_type": "markdown",
   "id": "eaddb289-5636-47db-a7c2-fe29843d88c5",
   "metadata": {},
   "source": [
    "# Group texts by author"
   ]
  },
  {
   "cell_type": "code",
   "execution_count": 43,
   "id": "905cb5a4-0217-43e1-b377-a18c18b7074e",
   "metadata": {},
   "outputs": [
    {
     "name": "stdout",
     "output_type": "stream",
     "text": [
      "Normalising...\n"
     ]
    },
    {
     "name": "stderr",
     "output_type": "stream",
     "text": [
      "100%|████████████████████████████████████████████████████████████████████████████████| 591/591 [01:08<00:00,  8.58it/s]\n"
     ]
    },
    {
     "data": {
      "text/html": [
       "<div>\n",
       "<style scoped>\n",
       "    .dataframe tbody tr th:only-of-type {\n",
       "        vertical-align: middle;\n",
       "    }\n",
       "\n",
       "    .dataframe tbody tr th {\n",
       "        vertical-align: top;\n",
       "    }\n",
       "\n",
       "    .dataframe thead th {\n",
       "        text-align: right;\n",
       "    }\n",
       "</style>\n",
       "<table border=\"1\" class=\"dataframe\">\n",
       "  <thead>\n",
       "    <tr style=\"text-align: right;\">\n",
       "      <th></th>\n",
       "      <th>0_human</th>\n",
       "      <th>0_claude-instant-v1</th>\n",
       "      <th>0_RWKV-4-Raven-14B</th>\n",
       "      <th>0_oasst-pythia-12b</th>\n",
       "      <th>0_chatglm-6b</th>\n",
       "      <th>0_palm-2</th>\n",
       "      <th>0_dolly-v2-12b</th>\n",
       "      <th>0_koala-13b</th>\n",
       "      <th>0_wizardlm-13b</th>\n",
       "      <th>0_alpaca-13b</th>\n",
       "      <th>...</th>\n",
       "      <th>190_human</th>\n",
       "      <th>28_oasst-pythia-12b</th>\n",
       "      <th>191_human</th>\n",
       "      <th>32_koala-13b</th>\n",
       "      <th>192_human</th>\n",
       "      <th>35_vicuna-13b</th>\n",
       "      <th>193_human</th>\n",
       "      <th>194_human</th>\n",
       "      <th>195_human</th>\n",
       "      <th>196_human</th>\n",
       "    </tr>\n",
       "  </thead>\n",
       "  <tbody>\n",
       "    <tr>\n",
       "      <th>00</th>\n",
       "      <td>0.000184</td>\n",
       "      <td>0.000000</td>\n",
       "      <td>0.000000</td>\n",
       "      <td>0.000102</td>\n",
       "      <td>0.000000</td>\n",
       "      <td>0.000252</td>\n",
       "      <td>0.000000</td>\n",
       "      <td>0.000071</td>\n",
       "      <td>0.000125</td>\n",
       "      <td>0.000000</td>\n",
       "      <td>...</td>\n",
       "      <td>0.000289</td>\n",
       "      <td>0.000000</td>\n",
       "      <td>0.000</td>\n",
       "      <td>0.000000</td>\n",
       "      <td>0.000197</td>\n",
       "      <td>0.000000</td>\n",
       "      <td>0.000000</td>\n",
       "      <td>0.001566</td>\n",
       "      <td>0.000163</td>\n",
       "      <td>0.00959</td>\n",
       "    </tr>\n",
       "    <tr>\n",
       "      <th>000</th>\n",
       "      <td>0.000000</td>\n",
       "      <td>0.000431</td>\n",
       "      <td>0.000191</td>\n",
       "      <td>0.000306</td>\n",
       "      <td>0.000000</td>\n",
       "      <td>0.000288</td>\n",
       "      <td>0.000088</td>\n",
       "      <td>0.000214</td>\n",
       "      <td>0.000208</td>\n",
       "      <td>0.000322</td>\n",
       "      <td>...</td>\n",
       "      <td>0.001589</td>\n",
       "      <td>0.000109</td>\n",
       "      <td>0.000</td>\n",
       "      <td>0.000301</td>\n",
       "      <td>0.000000</td>\n",
       "      <td>0.000197</td>\n",
       "      <td>0.000513</td>\n",
       "      <td>0.000000</td>\n",
       "      <td>0.000000</td>\n",
       "      <td>0.00000</td>\n",
       "    </tr>\n",
       "    <tr>\n",
       "      <th>0000</th>\n",
       "      <td>0.000000</td>\n",
       "      <td>0.000000</td>\n",
       "      <td>0.000000</td>\n",
       "      <td>0.000000</td>\n",
       "      <td>0.000000</td>\n",
       "      <td>0.000036</td>\n",
       "      <td>0.000000</td>\n",
       "      <td>0.000000</td>\n",
       "      <td>0.000000</td>\n",
       "      <td>0.000000</td>\n",
       "      <td>...</td>\n",
       "      <td>0.000000</td>\n",
       "      <td>0.000000</td>\n",
       "      <td>0.000</td>\n",
       "      <td>0.000000</td>\n",
       "      <td>0.000000</td>\n",
       "      <td>0.000000</td>\n",
       "      <td>0.000000</td>\n",
       "      <td>0.000000</td>\n",
       "      <td>0.000000</td>\n",
       "      <td>0.00000</td>\n",
       "    </tr>\n",
       "    <tr>\n",
       "      <th>00000</th>\n",
       "      <td>0.000000</td>\n",
       "      <td>0.000000</td>\n",
       "      <td>0.000000</td>\n",
       "      <td>0.000000</td>\n",
       "      <td>0.000000</td>\n",
       "      <td>0.000000</td>\n",
       "      <td>0.000000</td>\n",
       "      <td>0.000000</td>\n",
       "      <td>0.000000</td>\n",
       "      <td>0.000000</td>\n",
       "      <td>...</td>\n",
       "      <td>0.000000</td>\n",
       "      <td>0.000000</td>\n",
       "      <td>0.000</td>\n",
       "      <td>0.000000</td>\n",
       "      <td>0.000000</td>\n",
       "      <td>0.000000</td>\n",
       "      <td>0.000000</td>\n",
       "      <td>0.000000</td>\n",
       "      <td>0.000000</td>\n",
       "      <td>0.00000</td>\n",
       "    </tr>\n",
       "    <tr>\n",
       "      <th>000000</th>\n",
       "      <td>0.000000</td>\n",
       "      <td>0.000000</td>\n",
       "      <td>0.000000</td>\n",
       "      <td>0.000000</td>\n",
       "      <td>0.000000</td>\n",
       "      <td>0.000000</td>\n",
       "      <td>0.000000</td>\n",
       "      <td>0.000000</td>\n",
       "      <td>0.000000</td>\n",
       "      <td>0.000000</td>\n",
       "      <td>...</td>\n",
       "      <td>0.000000</td>\n",
       "      <td>0.000000</td>\n",
       "      <td>0.000</td>\n",
       "      <td>0.000000</td>\n",
       "      <td>0.000000</td>\n",
       "      <td>0.000000</td>\n",
       "      <td>0.000000</td>\n",
       "      <td>0.000000</td>\n",
       "      <td>0.000000</td>\n",
       "      <td>0.00000</td>\n",
       "    </tr>\n",
       "    <tr>\n",
       "      <th>...</th>\n",
       "      <td>...</td>\n",
       "      <td>...</td>\n",
       "      <td>...</td>\n",
       "      <td>...</td>\n",
       "      <td>...</td>\n",
       "      <td>...</td>\n",
       "      <td>...</td>\n",
       "      <td>...</td>\n",
       "      <td>...</td>\n",
       "      <td>...</td>\n",
       "      <td>...</td>\n",
       "      <td>...</td>\n",
       "      <td>...</td>\n",
       "      <td>...</td>\n",
       "      <td>...</td>\n",
       "      <td>...</td>\n",
       "      <td>...</td>\n",
       "      <td>...</td>\n",
       "      <td>...</td>\n",
       "      <td>...</td>\n",
       "      <td>...</td>\n",
       "    </tr>\n",
       "    <tr>\n",
       "      <th>ｗｅｅｋｓ</th>\n",
       "      <td>0.000000</td>\n",
       "      <td>0.000000</td>\n",
       "      <td>0.000000</td>\n",
       "      <td>0.000000</td>\n",
       "      <td>0.000000</td>\n",
       "      <td>0.000000</td>\n",
       "      <td>0.000000</td>\n",
       "      <td>0.000000</td>\n",
       "      <td>0.000000</td>\n",
       "      <td>0.000000</td>\n",
       "      <td>...</td>\n",
       "      <td>0.000000</td>\n",
       "      <td>0.000000</td>\n",
       "      <td>0.000</td>\n",
       "      <td>0.000000</td>\n",
       "      <td>0.000000</td>\n",
       "      <td>0.000000</td>\n",
       "      <td>0.000000</td>\n",
       "      <td>0.000000</td>\n",
       "      <td>0.000000</td>\n",
       "      <td>0.00000</td>\n",
       "    </tr>\n",
       "    <tr>\n",
       "      <th>𝘀𝗶𝗺𝗽𝗹𝗲</th>\n",
       "      <td>0.000000</td>\n",
       "      <td>0.000000</td>\n",
       "      <td>0.000000</td>\n",
       "      <td>0.000000</td>\n",
       "      <td>0.000000</td>\n",
       "      <td>0.000000</td>\n",
       "      <td>0.000000</td>\n",
       "      <td>0.000000</td>\n",
       "      <td>0.000000</td>\n",
       "      <td>0.000000</td>\n",
       "      <td>...</td>\n",
       "      <td>0.000000</td>\n",
       "      <td>0.000000</td>\n",
       "      <td>0.000</td>\n",
       "      <td>0.000000</td>\n",
       "      <td>0.000000</td>\n",
       "      <td>0.000000</td>\n",
       "      <td>0.000000</td>\n",
       "      <td>0.000000</td>\n",
       "      <td>0.000000</td>\n",
       "      <td>0.00000</td>\n",
       "    </tr>\n",
       "    <tr>\n",
       "      <th>𝘀𝘂𝗽𝗲𝗿𝗵𝘂𝗺𝗮𝗻</th>\n",
       "      <td>0.000000</td>\n",
       "      <td>0.000000</td>\n",
       "      <td>0.000000</td>\n",
       "      <td>0.000000</td>\n",
       "      <td>0.000000</td>\n",
       "      <td>0.000000</td>\n",
       "      <td>0.000000</td>\n",
       "      <td>0.000000</td>\n",
       "      <td>0.000000</td>\n",
       "      <td>0.000000</td>\n",
       "      <td>...</td>\n",
       "      <td>0.000000</td>\n",
       "      <td>0.000000</td>\n",
       "      <td>0.000</td>\n",
       "      <td>0.000000</td>\n",
       "      <td>0.000000</td>\n",
       "      <td>0.000000</td>\n",
       "      <td>0.000000</td>\n",
       "      <td>0.000000</td>\n",
       "      <td>0.000000</td>\n",
       "      <td>0.00000</td>\n",
       "    </tr>\n",
       "    <tr>\n",
       "      <th>𝘀𝘂𝗽𝗲𝗿𝗵𝘂𝗺𝗮𝗻𝘀</th>\n",
       "      <td>0.000000</td>\n",
       "      <td>0.000000</td>\n",
       "      <td>0.000000</td>\n",
       "      <td>0.000000</td>\n",
       "      <td>0.000000</td>\n",
       "      <td>0.000000</td>\n",
       "      <td>0.000000</td>\n",
       "      <td>0.000000</td>\n",
       "      <td>0.000000</td>\n",
       "      <td>0.000000</td>\n",
       "      <td>...</td>\n",
       "      <td>0.000000</td>\n",
       "      <td>0.000000</td>\n",
       "      <td>0.000</td>\n",
       "      <td>0.000000</td>\n",
       "      <td>0.000000</td>\n",
       "      <td>0.000000</td>\n",
       "      <td>0.000000</td>\n",
       "      <td>0.000000</td>\n",
       "      <td>0.000000</td>\n",
       "      <td>0.00000</td>\n",
       "    </tr>\n",
       "    <tr>\n",
       "      <th>length</th>\n",
       "      <td>27.331658</td>\n",
       "      <td>143.654639</td>\n",
       "      <td>105.507538</td>\n",
       "      <td>98.557789</td>\n",
       "      <td>143.452261</td>\n",
       "      <td>142.266667</td>\n",
       "      <td>58.268041</td>\n",
       "      <td>140.160000</td>\n",
       "      <td>121.368687</td>\n",
       "      <td>46.783920</td>\n",
       "      <td>...</td>\n",
       "      <td>34.605000</td>\n",
       "      <td>91.770000</td>\n",
       "      <td>24.455</td>\n",
       "      <td>132.099502</td>\n",
       "      <td>25.447236</td>\n",
       "      <td>126.740000</td>\n",
       "      <td>29.245000</td>\n",
       "      <td>32.095477</td>\n",
       "      <td>30.605000</td>\n",
       "      <td>26.07000</td>\n",
       "    </tr>\n",
       "  </tbody>\n",
       "</table>\n",
       "<p>195412 rows × 591 columns</p>\n",
       "</div>"
      ],
      "text/plain": [
       "               0_human  0_claude-instant-v1  0_RWKV-4-Raven-14B  \\\n",
       "00            0.000184             0.000000            0.000000   \n",
       "000           0.000000             0.000431            0.000191   \n",
       "0000          0.000000             0.000000            0.000000   \n",
       "00000         0.000000             0.000000            0.000000   \n",
       "000000        0.000000             0.000000            0.000000   \n",
       "...                ...                  ...                 ...   \n",
       "ｗｅｅｋｓ         0.000000             0.000000            0.000000   \n",
       "𝘀𝗶𝗺𝗽𝗹𝗲        0.000000             0.000000            0.000000   \n",
       "𝘀𝘂𝗽𝗲𝗿𝗵𝘂𝗺𝗮𝗻    0.000000             0.000000            0.000000   \n",
       "𝘀𝘂𝗽𝗲𝗿𝗵𝘂𝗺𝗮𝗻𝘀   0.000000             0.000000            0.000000   \n",
       " length      27.331658           143.654639          105.507538   \n",
       "\n",
       "             0_oasst-pythia-12b  0_chatglm-6b    0_palm-2  0_dolly-v2-12b  \\\n",
       "00                     0.000102      0.000000    0.000252        0.000000   \n",
       "000                    0.000306      0.000000    0.000288        0.000088   \n",
       "0000                   0.000000      0.000000    0.000036        0.000000   \n",
       "00000                  0.000000      0.000000    0.000000        0.000000   \n",
       "000000                 0.000000      0.000000    0.000000        0.000000   \n",
       "...                         ...           ...         ...             ...   \n",
       "ｗｅｅｋｓ                  0.000000      0.000000    0.000000        0.000000   \n",
       "𝘀𝗶𝗺𝗽𝗹𝗲                 0.000000      0.000000    0.000000        0.000000   \n",
       "𝘀𝘂𝗽𝗲𝗿𝗵𝘂𝗺𝗮𝗻             0.000000      0.000000    0.000000        0.000000   \n",
       "𝘀𝘂𝗽𝗲𝗿𝗵𝘂𝗺𝗮𝗻𝘀            0.000000      0.000000    0.000000        0.000000   \n",
       " length               98.557789    143.452261  142.266667       58.268041   \n",
       "\n",
       "             0_koala-13b  0_wizardlm-13b  0_alpaca-13b  ...  190_human  \\\n",
       "00              0.000071        0.000125      0.000000  ...   0.000289   \n",
       "000             0.000214        0.000208      0.000322  ...   0.001589   \n",
       "0000            0.000000        0.000000      0.000000  ...   0.000000   \n",
       "00000           0.000000        0.000000      0.000000  ...   0.000000   \n",
       "000000          0.000000        0.000000      0.000000  ...   0.000000   \n",
       "...                  ...             ...           ...  ...        ...   \n",
       "ｗｅｅｋｓ           0.000000        0.000000      0.000000  ...   0.000000   \n",
       "𝘀𝗶𝗺𝗽𝗹𝗲          0.000000        0.000000      0.000000  ...   0.000000   \n",
       "𝘀𝘂𝗽𝗲𝗿𝗵𝘂𝗺𝗮𝗻      0.000000        0.000000      0.000000  ...   0.000000   \n",
       "𝘀𝘂𝗽𝗲𝗿𝗵𝘂𝗺𝗮𝗻𝘀     0.000000        0.000000      0.000000  ...   0.000000   \n",
       " length       140.160000      121.368687     46.783920  ...  34.605000   \n",
       "\n",
       "             28_oasst-pythia-12b  191_human  32_koala-13b  192_human  \\\n",
       "00                      0.000000      0.000      0.000000   0.000197   \n",
       "000                     0.000109      0.000      0.000301   0.000000   \n",
       "0000                    0.000000      0.000      0.000000   0.000000   \n",
       "00000                   0.000000      0.000      0.000000   0.000000   \n",
       "000000                  0.000000      0.000      0.000000   0.000000   \n",
       "...                          ...        ...           ...        ...   \n",
       "ｗｅｅｋｓ                   0.000000      0.000      0.000000   0.000000   \n",
       "𝘀𝗶𝗺𝗽𝗹𝗲                  0.000000      0.000      0.000000   0.000000   \n",
       "𝘀𝘂𝗽𝗲𝗿𝗵𝘂𝗺𝗮𝗻              0.000000      0.000      0.000000   0.000000   \n",
       "𝘀𝘂𝗽𝗲𝗿𝗵𝘂𝗺𝗮𝗻𝘀             0.000000      0.000      0.000000   0.000000   \n",
       " length                91.770000     24.455    132.099502  25.447236   \n",
       "\n",
       "             35_vicuna-13b  193_human  194_human  195_human  196_human  \n",
       "00                0.000000   0.000000   0.001566   0.000163    0.00959  \n",
       "000               0.000197   0.000513   0.000000   0.000000    0.00000  \n",
       "0000              0.000000   0.000000   0.000000   0.000000    0.00000  \n",
       "00000             0.000000   0.000000   0.000000   0.000000    0.00000  \n",
       "000000            0.000000   0.000000   0.000000   0.000000    0.00000  \n",
       "...                    ...        ...        ...        ...        ...  \n",
       "ｗｅｅｋｓ             0.000000   0.000000   0.000000   0.000000    0.00000  \n",
       "𝘀𝗶𝗺𝗽𝗹𝗲            0.000000   0.000000   0.000000   0.000000    0.00000  \n",
       "𝘀𝘂𝗽𝗲𝗿𝗵𝘂𝗺𝗮𝗻        0.000000   0.000000   0.000000   0.000000    0.00000  \n",
       "𝘀𝘂𝗽𝗲𝗿𝗵𝘂𝗺𝗮𝗻𝘀       0.000000   0.000000   0.000000   0.000000    0.00000  \n",
       " length         126.740000  29.245000  32.095477  30.605000   26.07000  \n",
       "\n",
       "[195412 rows x 591 columns]"
      ]
     },
     "execution_count": 43,
     "metadata": {},
     "output_type": "execute_result"
    }
   ],
   "source": [
    "# Find the average text length of each author. \n",
    "batch_average_length = {name: np.sum(vector) / batch_count[name] for name, vector in batch_vectors.items()}\n",
    "\n",
    "# Normalise the length of each corpus.\n",
    "print('Normalising...')\n",
    "for name in tqdm(batch_vectors) :\n",
    "    batch_dataset[name] /= np.sum(batch_vectors[name])\n",
    "    \n",
    "# Since it has been lost, add the average text length as a separate feature.\n",
    "batch_dataset = pd.concat([batch_dataset, pd.DataFrame(batch_average_length, index = [' length'])])\n",
    "\n",
    "batch_dataset"
   ]
  },
  {
   "cell_type": "code",
   "execution_count": 44,
   "id": "349b0638-7c11-4a20-809b-a1524a765f4b",
   "metadata": {},
   "outputs": [],
   "source": [
    "batch_dataset.to_json(batch_dataset_path)"
   ]
  },
  {
   "cell_type": "markdown",
   "id": "be8da3ae-4656-4e4b-a51d-5215e7ffa0fe",
   "metadata": {},
   "source": [
    "# Custom holdout"
   ]
  },
  {
   "cell_type": "code",
   "execution_count": 45,
   "id": "a711fed7-9d46-4ffd-a246-aeebd52f2f18",
   "metadata": {},
   "outputs": [
    {
     "data": {
      "text/html": [
       "<div>\n",
       "<style scoped>\n",
       "    .dataframe tbody tr th:only-of-type {\n",
       "        vertical-align: middle;\n",
       "    }\n",
       "\n",
       "    .dataframe tbody tr th {\n",
       "        vertical-align: top;\n",
       "    }\n",
       "\n",
       "    .dataframe thead th {\n",
       "        text-align: right;\n",
       "    }\n",
       "</style>\n",
       "<table border=\"1\" class=\"dataframe\">\n",
       "  <thead>\n",
       "    <tr style=\"text-align: right;\">\n",
       "      <th></th>\n",
       "      <th>0_human</th>\n",
       "      <th>0_claude-instant-v1</th>\n",
       "      <th>0_RWKV-4-Raven-14B</th>\n",
       "      <th>0_oasst-pythia-12b</th>\n",
       "      <th>0_chatglm-6b</th>\n",
       "      <th>0_palm-2</th>\n",
       "      <th>0_dolly-v2-12b</th>\n",
       "      <th>0_koala-13b</th>\n",
       "      <th>0_wizardlm-13b</th>\n",
       "      <th>0_alpaca-13b</th>\n",
       "      <th>...</th>\n",
       "      <th>190_human</th>\n",
       "      <th>28_oasst-pythia-12b</th>\n",
       "      <th>191_human</th>\n",
       "      <th>32_koala-13b</th>\n",
       "      <th>192_human</th>\n",
       "      <th>35_vicuna-13b</th>\n",
       "      <th>193_human</th>\n",
       "      <th>194_human</th>\n",
       "      <th>195_human</th>\n",
       "      <th>196_human</th>\n",
       "    </tr>\n",
       "  </thead>\n",
       "  <tbody>\n",
       "    <tr>\n",
       "      <th>00</th>\n",
       "      <td>0.000184</td>\n",
       "      <td>0.000000</td>\n",
       "      <td>0.000000</td>\n",
       "      <td>0.000102</td>\n",
       "      <td>0.000000</td>\n",
       "      <td>0.000252</td>\n",
       "      <td>0.000000</td>\n",
       "      <td>0.000071</td>\n",
       "      <td>0.000125</td>\n",
       "      <td>0.000000</td>\n",
       "      <td>...</td>\n",
       "      <td>0.000289</td>\n",
       "      <td>0.000000</td>\n",
       "      <td>0.000</td>\n",
       "      <td>0.000000</td>\n",
       "      <td>0.000197</td>\n",
       "      <td>0.000000</td>\n",
       "      <td>0.000000</td>\n",
       "      <td>0.001566</td>\n",
       "      <td>0.000163</td>\n",
       "      <td>0.00959</td>\n",
       "    </tr>\n",
       "    <tr>\n",
       "      <th>000</th>\n",
       "      <td>0.000000</td>\n",
       "      <td>0.000431</td>\n",
       "      <td>0.000191</td>\n",
       "      <td>0.000306</td>\n",
       "      <td>0.000000</td>\n",
       "      <td>0.000288</td>\n",
       "      <td>0.000088</td>\n",
       "      <td>0.000214</td>\n",
       "      <td>0.000208</td>\n",
       "      <td>0.000322</td>\n",
       "      <td>...</td>\n",
       "      <td>0.001589</td>\n",
       "      <td>0.000109</td>\n",
       "      <td>0.000</td>\n",
       "      <td>0.000301</td>\n",
       "      <td>0.000000</td>\n",
       "      <td>0.000197</td>\n",
       "      <td>0.000513</td>\n",
       "      <td>0.000000</td>\n",
       "      <td>0.000000</td>\n",
       "      <td>0.00000</td>\n",
       "    </tr>\n",
       "    <tr>\n",
       "      <th>0000</th>\n",
       "      <td>0.000000</td>\n",
       "      <td>0.000000</td>\n",
       "      <td>0.000000</td>\n",
       "      <td>0.000000</td>\n",
       "      <td>0.000000</td>\n",
       "      <td>0.000036</td>\n",
       "      <td>0.000000</td>\n",
       "      <td>0.000000</td>\n",
       "      <td>0.000000</td>\n",
       "      <td>0.000000</td>\n",
       "      <td>...</td>\n",
       "      <td>0.000000</td>\n",
       "      <td>0.000000</td>\n",
       "      <td>0.000</td>\n",
       "      <td>0.000000</td>\n",
       "      <td>0.000000</td>\n",
       "      <td>0.000000</td>\n",
       "      <td>0.000000</td>\n",
       "      <td>0.000000</td>\n",
       "      <td>0.000000</td>\n",
       "      <td>0.00000</td>\n",
       "    </tr>\n",
       "    <tr>\n",
       "      <th>00000</th>\n",
       "      <td>0.000000</td>\n",
       "      <td>0.000000</td>\n",
       "      <td>0.000000</td>\n",
       "      <td>0.000000</td>\n",
       "      <td>0.000000</td>\n",
       "      <td>0.000000</td>\n",
       "      <td>0.000000</td>\n",
       "      <td>0.000000</td>\n",
       "      <td>0.000000</td>\n",
       "      <td>0.000000</td>\n",
       "      <td>...</td>\n",
       "      <td>0.000000</td>\n",
       "      <td>0.000000</td>\n",
       "      <td>0.000</td>\n",
       "      <td>0.000000</td>\n",
       "      <td>0.000000</td>\n",
       "      <td>0.000000</td>\n",
       "      <td>0.000000</td>\n",
       "      <td>0.000000</td>\n",
       "      <td>0.000000</td>\n",
       "      <td>0.00000</td>\n",
       "    </tr>\n",
       "    <tr>\n",
       "      <th>000000</th>\n",
       "      <td>0.000000</td>\n",
       "      <td>0.000000</td>\n",
       "      <td>0.000000</td>\n",
       "      <td>0.000000</td>\n",
       "      <td>0.000000</td>\n",
       "      <td>0.000000</td>\n",
       "      <td>0.000000</td>\n",
       "      <td>0.000000</td>\n",
       "      <td>0.000000</td>\n",
       "      <td>0.000000</td>\n",
       "      <td>...</td>\n",
       "      <td>0.000000</td>\n",
       "      <td>0.000000</td>\n",
       "      <td>0.000</td>\n",
       "      <td>0.000000</td>\n",
       "      <td>0.000000</td>\n",
       "      <td>0.000000</td>\n",
       "      <td>0.000000</td>\n",
       "      <td>0.000000</td>\n",
       "      <td>0.000000</td>\n",
       "      <td>0.00000</td>\n",
       "    </tr>\n",
       "    <tr>\n",
       "      <th>...</th>\n",
       "      <td>...</td>\n",
       "      <td>...</td>\n",
       "      <td>...</td>\n",
       "      <td>...</td>\n",
       "      <td>...</td>\n",
       "      <td>...</td>\n",
       "      <td>...</td>\n",
       "      <td>...</td>\n",
       "      <td>...</td>\n",
       "      <td>...</td>\n",
       "      <td>...</td>\n",
       "      <td>...</td>\n",
       "      <td>...</td>\n",
       "      <td>...</td>\n",
       "      <td>...</td>\n",
       "      <td>...</td>\n",
       "      <td>...</td>\n",
       "      <td>...</td>\n",
       "      <td>...</td>\n",
       "      <td>...</td>\n",
       "      <td>...</td>\n",
       "    </tr>\n",
       "    <tr>\n",
       "      <th>ｗｅｅｋｓ</th>\n",
       "      <td>0.000000</td>\n",
       "      <td>0.000000</td>\n",
       "      <td>0.000000</td>\n",
       "      <td>0.000000</td>\n",
       "      <td>0.000000</td>\n",
       "      <td>0.000000</td>\n",
       "      <td>0.000000</td>\n",
       "      <td>0.000000</td>\n",
       "      <td>0.000000</td>\n",
       "      <td>0.000000</td>\n",
       "      <td>...</td>\n",
       "      <td>0.000000</td>\n",
       "      <td>0.000000</td>\n",
       "      <td>0.000</td>\n",
       "      <td>0.000000</td>\n",
       "      <td>0.000000</td>\n",
       "      <td>0.000000</td>\n",
       "      <td>0.000000</td>\n",
       "      <td>0.000000</td>\n",
       "      <td>0.000000</td>\n",
       "      <td>0.00000</td>\n",
       "    </tr>\n",
       "    <tr>\n",
       "      <th>𝘀𝗶𝗺𝗽𝗹𝗲</th>\n",
       "      <td>0.000000</td>\n",
       "      <td>0.000000</td>\n",
       "      <td>0.000000</td>\n",
       "      <td>0.000000</td>\n",
       "      <td>0.000000</td>\n",
       "      <td>0.000000</td>\n",
       "      <td>0.000000</td>\n",
       "      <td>0.000000</td>\n",
       "      <td>0.000000</td>\n",
       "      <td>0.000000</td>\n",
       "      <td>...</td>\n",
       "      <td>0.000000</td>\n",
       "      <td>0.000000</td>\n",
       "      <td>0.000</td>\n",
       "      <td>0.000000</td>\n",
       "      <td>0.000000</td>\n",
       "      <td>0.000000</td>\n",
       "      <td>0.000000</td>\n",
       "      <td>0.000000</td>\n",
       "      <td>0.000000</td>\n",
       "      <td>0.00000</td>\n",
       "    </tr>\n",
       "    <tr>\n",
       "      <th>𝘀𝘂𝗽𝗲𝗿𝗵𝘂𝗺𝗮𝗻</th>\n",
       "      <td>0.000000</td>\n",
       "      <td>0.000000</td>\n",
       "      <td>0.000000</td>\n",
       "      <td>0.000000</td>\n",
       "      <td>0.000000</td>\n",
       "      <td>0.000000</td>\n",
       "      <td>0.000000</td>\n",
       "      <td>0.000000</td>\n",
       "      <td>0.000000</td>\n",
       "      <td>0.000000</td>\n",
       "      <td>...</td>\n",
       "      <td>0.000000</td>\n",
       "      <td>0.000000</td>\n",
       "      <td>0.000</td>\n",
       "      <td>0.000000</td>\n",
       "      <td>0.000000</td>\n",
       "      <td>0.000000</td>\n",
       "      <td>0.000000</td>\n",
       "      <td>0.000000</td>\n",
       "      <td>0.000000</td>\n",
       "      <td>0.00000</td>\n",
       "    </tr>\n",
       "    <tr>\n",
       "      <th>𝘀𝘂𝗽𝗲𝗿𝗵𝘂𝗺𝗮𝗻𝘀</th>\n",
       "      <td>0.000000</td>\n",
       "      <td>0.000000</td>\n",
       "      <td>0.000000</td>\n",
       "      <td>0.000000</td>\n",
       "      <td>0.000000</td>\n",
       "      <td>0.000000</td>\n",
       "      <td>0.000000</td>\n",
       "      <td>0.000000</td>\n",
       "      <td>0.000000</td>\n",
       "      <td>0.000000</td>\n",
       "      <td>...</td>\n",
       "      <td>0.000000</td>\n",
       "      <td>0.000000</td>\n",
       "      <td>0.000</td>\n",
       "      <td>0.000000</td>\n",
       "      <td>0.000000</td>\n",
       "      <td>0.000000</td>\n",
       "      <td>0.000000</td>\n",
       "      <td>0.000000</td>\n",
       "      <td>0.000000</td>\n",
       "      <td>0.00000</td>\n",
       "    </tr>\n",
       "    <tr>\n",
       "      <th>length</th>\n",
       "      <td>27.331658</td>\n",
       "      <td>143.654639</td>\n",
       "      <td>105.507538</td>\n",
       "      <td>98.557789</td>\n",
       "      <td>143.452261</td>\n",
       "      <td>142.266667</td>\n",
       "      <td>58.268041</td>\n",
       "      <td>140.160000</td>\n",
       "      <td>121.368687</td>\n",
       "      <td>46.783920</td>\n",
       "      <td>...</td>\n",
       "      <td>34.605000</td>\n",
       "      <td>91.770000</td>\n",
       "      <td>24.455</td>\n",
       "      <td>132.099502</td>\n",
       "      <td>25.447236</td>\n",
       "      <td>126.740000</td>\n",
       "      <td>29.245000</td>\n",
       "      <td>32.095477</td>\n",
       "      <td>30.605000</td>\n",
       "      <td>26.07000</td>\n",
       "    </tr>\n",
       "  </tbody>\n",
       "</table>\n",
       "<p>195412 rows × 570 columns</p>\n",
       "</div>"
      ],
      "text/plain": [
       "               0_human  0_claude-instant-v1  0_RWKV-4-Raven-14B  \\\n",
       "00            0.000184             0.000000            0.000000   \n",
       "000           0.000000             0.000431            0.000191   \n",
       "0000          0.000000             0.000000            0.000000   \n",
       "00000         0.000000             0.000000            0.000000   \n",
       "000000        0.000000             0.000000            0.000000   \n",
       "...                ...                  ...                 ...   \n",
       "ｗｅｅｋｓ         0.000000             0.000000            0.000000   \n",
       "𝘀𝗶𝗺𝗽𝗹𝗲        0.000000             0.000000            0.000000   \n",
       "𝘀𝘂𝗽𝗲𝗿𝗵𝘂𝗺𝗮𝗻    0.000000             0.000000            0.000000   \n",
       "𝘀𝘂𝗽𝗲𝗿𝗵𝘂𝗺𝗮𝗻𝘀   0.000000             0.000000            0.000000   \n",
       " length      27.331658           143.654639          105.507538   \n",
       "\n",
       "             0_oasst-pythia-12b  0_chatglm-6b    0_palm-2  0_dolly-v2-12b  \\\n",
       "00                     0.000102      0.000000    0.000252        0.000000   \n",
       "000                    0.000306      0.000000    0.000288        0.000088   \n",
       "0000                   0.000000      0.000000    0.000036        0.000000   \n",
       "00000                  0.000000      0.000000    0.000000        0.000000   \n",
       "000000                 0.000000      0.000000    0.000000        0.000000   \n",
       "...                         ...           ...         ...             ...   \n",
       "ｗｅｅｋｓ                  0.000000      0.000000    0.000000        0.000000   \n",
       "𝘀𝗶𝗺𝗽𝗹𝗲                 0.000000      0.000000    0.000000        0.000000   \n",
       "𝘀𝘂𝗽𝗲𝗿𝗵𝘂𝗺𝗮𝗻             0.000000      0.000000    0.000000        0.000000   \n",
       "𝘀𝘂𝗽𝗲𝗿𝗵𝘂𝗺𝗮𝗻𝘀            0.000000      0.000000    0.000000        0.000000   \n",
       " length               98.557789    143.452261  142.266667       58.268041   \n",
       "\n",
       "             0_koala-13b  0_wizardlm-13b  0_alpaca-13b  ...  190_human  \\\n",
       "00              0.000071        0.000125      0.000000  ...   0.000289   \n",
       "000             0.000214        0.000208      0.000322  ...   0.001589   \n",
       "0000            0.000000        0.000000      0.000000  ...   0.000000   \n",
       "00000           0.000000        0.000000      0.000000  ...   0.000000   \n",
       "000000          0.000000        0.000000      0.000000  ...   0.000000   \n",
       "...                  ...             ...           ...  ...        ...   \n",
       "ｗｅｅｋｓ           0.000000        0.000000      0.000000  ...   0.000000   \n",
       "𝘀𝗶𝗺𝗽𝗹𝗲          0.000000        0.000000      0.000000  ...   0.000000   \n",
       "𝘀𝘂𝗽𝗲𝗿𝗵𝘂𝗺𝗮𝗻      0.000000        0.000000      0.000000  ...   0.000000   \n",
       "𝘀𝘂𝗽𝗲𝗿𝗵𝘂𝗺𝗮𝗻𝘀     0.000000        0.000000      0.000000  ...   0.000000   \n",
       " length       140.160000      121.368687     46.783920  ...  34.605000   \n",
       "\n",
       "             28_oasst-pythia-12b  191_human  32_koala-13b  192_human  \\\n",
       "00                      0.000000      0.000      0.000000   0.000197   \n",
       "000                     0.000109      0.000      0.000301   0.000000   \n",
       "0000                    0.000000      0.000      0.000000   0.000000   \n",
       "00000                   0.000000      0.000      0.000000   0.000000   \n",
       "000000                  0.000000      0.000      0.000000   0.000000   \n",
       "...                          ...        ...           ...        ...   \n",
       "ｗｅｅｋｓ                   0.000000      0.000      0.000000   0.000000   \n",
       "𝘀𝗶𝗺𝗽𝗹𝗲                  0.000000      0.000      0.000000   0.000000   \n",
       "𝘀𝘂𝗽𝗲𝗿𝗵𝘂𝗺𝗮𝗻              0.000000      0.000      0.000000   0.000000   \n",
       "𝘀𝘂𝗽𝗲𝗿𝗵𝘂𝗺𝗮𝗻𝘀             0.000000      0.000      0.000000   0.000000   \n",
       " length                91.770000     24.455    132.099502  25.447236   \n",
       "\n",
       "             35_vicuna-13b  193_human  194_human  195_human  196_human  \n",
       "00                0.000000   0.000000   0.001566   0.000163    0.00959  \n",
       "000               0.000197   0.000513   0.000000   0.000000    0.00000  \n",
       "0000              0.000000   0.000000   0.000000   0.000000    0.00000  \n",
       "00000             0.000000   0.000000   0.000000   0.000000    0.00000  \n",
       "000000            0.000000   0.000000   0.000000   0.000000    0.00000  \n",
       "...                    ...        ...        ...        ...        ...  \n",
       "ｗｅｅｋｓ             0.000000   0.000000   0.000000   0.000000    0.00000  \n",
       "𝘀𝗶𝗺𝗽𝗹𝗲            0.000000   0.000000   0.000000   0.000000    0.00000  \n",
       "𝘀𝘂𝗽𝗲𝗿𝗵𝘂𝗺𝗮𝗻        0.000000   0.000000   0.000000   0.000000    0.00000  \n",
       "𝘀𝘂𝗽𝗲𝗿𝗵𝘂𝗺𝗮𝗻𝘀       0.000000   0.000000   0.000000   0.000000    0.00000  \n",
       " length         126.740000  29.245000  32.095477  30.605000   26.07000  \n",
       "\n",
       "[195412 rows x 570 columns]"
      ]
     },
     "execution_count": 45,
     "metadata": {},
     "output_type": "execute_result"
    }
   ],
   "source": [
    "def holdout(df, authors, seed) :\n",
    "    random.seed(seed)\n",
    "    \n",
    "    holdout_list = []\n",
    "    for author in authors :\n",
    "        batch = df[random.choice([batch for batch in df.columns if author in batch])].copy()\n",
    "        holdout_list.append(batch)\n",
    "\n",
    "    holdout_df = pd.concat(holdout_list, axis = 1)\n",
    "    training_df = df.drop(columns = holdout_df.columns).copy()\n",
    "    return training_df, holdout_df\n",
    "\n",
    "# Use the function for this seed 0 run.\n",
    "training_dataset, holdout_dataset = holdout(batch_dataset, list(set(authors)), 0)\n",
    "training_dataset"
   ]
  },
  {
   "cell_type": "markdown",
   "id": "25907064-528f-42f4-b404-7ee2b8d2ad6e",
   "metadata": {},
   "source": [
    "# Feature selection"
   ]
  },
  {
   "cell_type": "code",
   "execution_count": 46,
   "id": "2d359f4a-e989-4fed-834c-ba93a63c1c33",
   "metadata": {},
   "outputs": [
    {
     "data": {
      "text/html": [
       "<div>\n",
       "<style scoped>\n",
       "    .dataframe tbody tr th:only-of-type {\n",
       "        vertical-align: middle;\n",
       "    }\n",
       "\n",
       "    .dataframe tbody tr th {\n",
       "        vertical-align: top;\n",
       "    }\n",
       "\n",
       "    .dataframe thead th {\n",
       "        text-align: right;\n",
       "    }\n",
       "</style>\n",
       "<table border=\"1\" class=\"dataframe\">\n",
       "  <thead>\n",
       "    <tr style=\"text-align: right;\">\n",
       "      <th></th>\n",
       "      <th>0_claude-instant-v1</th>\n",
       "      <th>0_RWKV-4-Raven-14B</th>\n",
       "      <th>0_oasst-pythia-12b</th>\n",
       "      <th>0_chatglm-6b</th>\n",
       "      <th>0_palm-2</th>\n",
       "      <th>0_dolly-v2-12b</th>\n",
       "      <th>0_koala-13b</th>\n",
       "      <th>0_wizardlm-13b</th>\n",
       "      <th>0_alpaca-13b</th>\n",
       "      <th>0_fastchat-t5-3b</th>\n",
       "      <th>...</th>\n",
       "      <th>187_human</th>\n",
       "      <th>188_human</th>\n",
       "      <th>189_human</th>\n",
       "      <th>190_human</th>\n",
       "      <th>191_human</th>\n",
       "      <th>192_human</th>\n",
       "      <th>193_human</th>\n",
       "      <th>194_human</th>\n",
       "      <th>195_human</th>\n",
       "      <th>196_human</th>\n",
       "    </tr>\n",
       "  </thead>\n",
       "  <tbody>\n",
       "    <tr>\n",
       "      <th>10</th>\n",
       "      <td>0.000754</td>\n",
       "      <td>0.001286</td>\n",
       "      <td>0.000714</td>\n",
       "      <td>0.000946</td>\n",
       "      <td>0.001117</td>\n",
       "      <td>0.001150</td>\n",
       "      <td>0.000892</td>\n",
       "      <td>0.001165</td>\n",
       "      <td>0.001396</td>\n",
       "      <td>0.001493</td>\n",
       "      <td>...</td>\n",
       "      <td>0.001738</td>\n",
       "      <td>0.004165</td>\n",
       "      <td>0.003317</td>\n",
       "      <td>0.001445</td>\n",
       "      <td>0.003271</td>\n",
       "      <td>0.001777</td>\n",
       "      <td>0.002565</td>\n",
       "      <td>0.002035</td>\n",
       "      <td>0.001960</td>\n",
       "      <td>0.002877</td>\n",
       "    </tr>\n",
       "    <tr>\n",
       "      <th>about</th>\n",
       "      <td>0.001184</td>\n",
       "      <td>0.001572</td>\n",
       "      <td>0.001479</td>\n",
       "      <td>0.002137</td>\n",
       "      <td>0.002343</td>\n",
       "      <td>0.001769</td>\n",
       "      <td>0.001926</td>\n",
       "      <td>0.001290</td>\n",
       "      <td>0.001396</td>\n",
       "      <td>0.001669</td>\n",
       "      <td>...</td>\n",
       "      <td>0.004344</td>\n",
       "      <td>0.003597</td>\n",
       "      <td>0.002211</td>\n",
       "      <td>0.003612</td>\n",
       "      <td>0.002249</td>\n",
       "      <td>0.006122</td>\n",
       "      <td>0.003248</td>\n",
       "      <td>0.003758</td>\n",
       "      <td>0.003431</td>\n",
       "      <td>0.002110</td>\n",
       "    </tr>\n",
       "    <tr>\n",
       "      <th>all</th>\n",
       "      <td>0.001722</td>\n",
       "      <td>0.001762</td>\n",
       "      <td>0.001020</td>\n",
       "      <td>0.001086</td>\n",
       "      <td>0.002379</td>\n",
       "      <td>0.002477</td>\n",
       "      <td>0.001498</td>\n",
       "      <td>0.001165</td>\n",
       "      <td>0.001611</td>\n",
       "      <td>0.001361</td>\n",
       "      <td>...</td>\n",
       "      <td>0.000869</td>\n",
       "      <td>0.001325</td>\n",
       "      <td>0.001474</td>\n",
       "      <td>0.003034</td>\n",
       "      <td>0.002045</td>\n",
       "      <td>0.001382</td>\n",
       "      <td>0.003248</td>\n",
       "      <td>0.001879</td>\n",
       "      <td>0.001307</td>\n",
       "      <td>0.001726</td>\n",
       "    </tr>\n",
       "    <tr>\n",
       "      <th>also</th>\n",
       "      <td>0.000825</td>\n",
       "      <td>0.002905</td>\n",
       "      <td>0.001887</td>\n",
       "      <td>0.002943</td>\n",
       "      <td>0.003713</td>\n",
       "      <td>0.002742</td>\n",
       "      <td>0.002069</td>\n",
       "      <td>0.001914</td>\n",
       "      <td>0.003652</td>\n",
       "      <td>0.002503</td>\n",
       "      <td>...</td>\n",
       "      <td>0.000217</td>\n",
       "      <td>0.000379</td>\n",
       "      <td>0.000921</td>\n",
       "      <td>0.001011</td>\n",
       "      <td>0.000613</td>\n",
       "      <td>0.000790</td>\n",
       "      <td>0.000171</td>\n",
       "      <td>0.000313</td>\n",
       "      <td>0.000163</td>\n",
       "      <td>0.001343</td>\n",
       "    </tr>\n",
       "    <tr>\n",
       "      <th>am</th>\n",
       "      <td>0.000144</td>\n",
       "      <td>0.001143</td>\n",
       "      <td>0.001020</td>\n",
       "      <td>0.000315</td>\n",
       "      <td>0.002631</td>\n",
       "      <td>0.000619</td>\n",
       "      <td>0.000499</td>\n",
       "      <td>0.000375</td>\n",
       "      <td>0.000967</td>\n",
       "      <td>0.000878</td>\n",
       "      <td>...</td>\n",
       "      <td>0.000652</td>\n",
       "      <td>0.000757</td>\n",
       "      <td>0.000921</td>\n",
       "      <td>0.001156</td>\n",
       "      <td>0.000204</td>\n",
       "      <td>0.001185</td>\n",
       "      <td>0.000513</td>\n",
       "      <td>0.000313</td>\n",
       "      <td>0.001960</td>\n",
       "      <td>0.000959</td>\n",
       "    </tr>\n",
       "    <tr>\n",
       "      <th>...</th>\n",
       "      <td>...</td>\n",
       "      <td>...</td>\n",
       "      <td>...</td>\n",
       "      <td>...</td>\n",
       "      <td>...</td>\n",
       "      <td>...</td>\n",
       "      <td>...</td>\n",
       "      <td>...</td>\n",
       "      <td>...</td>\n",
       "      <td>...</td>\n",
       "      <td>...</td>\n",
       "      <td>...</td>\n",
       "      <td>...</td>\n",
       "      <td>...</td>\n",
       "      <td>...</td>\n",
       "      <td>...</td>\n",
       "      <td>...</td>\n",
       "      <td>...</td>\n",
       "      <td>...</td>\n",
       "      <td>...</td>\n",
       "      <td>...</td>\n",
       "    </tr>\n",
       "    <tr>\n",
       "      <th>world</th>\n",
       "      <td>0.000861</td>\n",
       "      <td>0.000857</td>\n",
       "      <td>0.001275</td>\n",
       "      <td>0.001576</td>\n",
       "      <td>0.001550</td>\n",
       "      <td>0.001769</td>\n",
       "      <td>0.001249</td>\n",
       "      <td>0.000707</td>\n",
       "      <td>0.002148</td>\n",
       "      <td>0.000703</td>\n",
       "      <td>...</td>\n",
       "      <td>0.001738</td>\n",
       "      <td>0.001515</td>\n",
       "      <td>0.000921</td>\n",
       "      <td>0.000578</td>\n",
       "      <td>0.001431</td>\n",
       "      <td>0.000197</td>\n",
       "      <td>0.000513</td>\n",
       "      <td>0.000939</td>\n",
       "      <td>0.000327</td>\n",
       "      <td>0.001151</td>\n",
       "    </tr>\n",
       "    <tr>\n",
       "      <th>would</th>\n",
       "      <td>0.002261</td>\n",
       "      <td>0.001286</td>\n",
       "      <td>0.001683</td>\n",
       "      <td>0.001436</td>\n",
       "      <td>0.001586</td>\n",
       "      <td>0.003892</td>\n",
       "      <td>0.001463</td>\n",
       "      <td>0.001914</td>\n",
       "      <td>0.003545</td>\n",
       "      <td>0.000878</td>\n",
       "      <td>...</td>\n",
       "      <td>0.001520</td>\n",
       "      <td>0.001325</td>\n",
       "      <td>0.001658</td>\n",
       "      <td>0.002167</td>\n",
       "      <td>0.001840</td>\n",
       "      <td>0.001975</td>\n",
       "      <td>0.001710</td>\n",
       "      <td>0.002349</td>\n",
       "      <td>0.001634</td>\n",
       "      <td>0.001726</td>\n",
       "    </tr>\n",
       "    <tr>\n",
       "      <th>you</th>\n",
       "      <td>0.007176</td>\n",
       "      <td>0.012717</td>\n",
       "      <td>0.011829</td>\n",
       "      <td>0.010054</td>\n",
       "      <td>0.015392</td>\n",
       "      <td>0.009112</td>\n",
       "      <td>0.010417</td>\n",
       "      <td>0.009405</td>\n",
       "      <td>0.012675</td>\n",
       "      <td>0.008255</td>\n",
       "      <td>...</td>\n",
       "      <td>0.014553</td>\n",
       "      <td>0.013063</td>\n",
       "      <td>0.011056</td>\n",
       "      <td>0.011415</td>\n",
       "      <td>0.008383</td>\n",
       "      <td>0.015403</td>\n",
       "      <td>0.017268</td>\n",
       "      <td>0.012995</td>\n",
       "      <td>0.014540</td>\n",
       "      <td>0.009973</td>\n",
       "    </tr>\n",
       "    <tr>\n",
       "      <th>your</th>\n",
       "      <td>0.002942</td>\n",
       "      <td>0.007811</td>\n",
       "      <td>0.004640</td>\n",
       "      <td>0.006551</td>\n",
       "      <td>0.007209</td>\n",
       "      <td>0.002212</td>\n",
       "      <td>0.005708</td>\n",
       "      <td>0.005326</td>\n",
       "      <td>0.005908</td>\n",
       "      <td>0.004128</td>\n",
       "      <td>...</td>\n",
       "      <td>0.002824</td>\n",
       "      <td>0.002651</td>\n",
       "      <td>0.004422</td>\n",
       "      <td>0.003323</td>\n",
       "      <td>0.001227</td>\n",
       "      <td>0.005332</td>\n",
       "      <td>0.005471</td>\n",
       "      <td>0.005636</td>\n",
       "      <td>0.002451</td>\n",
       "      <td>0.002493</td>\n",
       "    </tr>\n",
       "    <tr>\n",
       "      <th>length</th>\n",
       "      <td>143.654639</td>\n",
       "      <td>105.507538</td>\n",
       "      <td>98.557789</td>\n",
       "      <td>143.452261</td>\n",
       "      <td>142.266667</td>\n",
       "      <td>58.268041</td>\n",
       "      <td>140.160000</td>\n",
       "      <td>121.368687</td>\n",
       "      <td>46.783920</td>\n",
       "      <td>111.087805</td>\n",
       "      <td>...</td>\n",
       "      <td>23.135678</td>\n",
       "      <td>26.410000</td>\n",
       "      <td>27.271357</td>\n",
       "      <td>34.605000</td>\n",
       "      <td>24.455000</td>\n",
       "      <td>25.447236</td>\n",
       "      <td>29.245000</td>\n",
       "      <td>32.095477</td>\n",
       "      <td>30.605000</td>\n",
       "      <td>26.070000</td>\n",
       "    </tr>\n",
       "  </tbody>\n",
       "</table>\n",
       "<p>132 rows × 570 columns</p>\n",
       "</div>"
      ],
      "text/plain": [
       "         0_claude-instant-v1  0_RWKV-4-Raven-14B  0_oasst-pythia-12b  \\\n",
       "10                  0.000754            0.001286            0.000714   \n",
       "about               0.001184            0.001572            0.001479   \n",
       "all                 0.001722            0.001762            0.001020   \n",
       "also                0.000825            0.002905            0.001887   \n",
       "am                  0.000144            0.001143            0.001020   \n",
       "...                      ...                 ...                 ...   \n",
       "world               0.000861            0.000857            0.001275   \n",
       "would               0.002261            0.001286            0.001683   \n",
       "you                 0.007176            0.012717            0.011829   \n",
       "your                0.002942            0.007811            0.004640   \n",
       " length           143.654639          105.507538           98.557789   \n",
       "\n",
       "         0_chatglm-6b    0_palm-2  0_dolly-v2-12b  0_koala-13b  \\\n",
       "10           0.000946    0.001117        0.001150     0.000892   \n",
       "about        0.002137    0.002343        0.001769     0.001926   \n",
       "all          0.001086    0.002379        0.002477     0.001498   \n",
       "also         0.002943    0.003713        0.002742     0.002069   \n",
       "am           0.000315    0.002631        0.000619     0.000499   \n",
       "...               ...         ...             ...          ...   \n",
       "world        0.001576    0.001550        0.001769     0.001249   \n",
       "would        0.001436    0.001586        0.003892     0.001463   \n",
       "you          0.010054    0.015392        0.009112     0.010417   \n",
       "your         0.006551    0.007209        0.002212     0.005708   \n",
       " length    143.452261  142.266667       58.268041   140.160000   \n",
       "\n",
       "         0_wizardlm-13b  0_alpaca-13b  0_fastchat-t5-3b  ...  187_human  \\\n",
       "10             0.001165      0.001396          0.001493  ...   0.001738   \n",
       "about          0.001290      0.001396          0.001669  ...   0.004344   \n",
       "all            0.001165      0.001611          0.001361  ...   0.000869   \n",
       "also           0.001914      0.003652          0.002503  ...   0.000217   \n",
       "am             0.000375      0.000967          0.000878  ...   0.000652   \n",
       "...                 ...           ...               ...  ...        ...   \n",
       "world          0.000707      0.002148          0.000703  ...   0.001738   \n",
       "would          0.001914      0.003545          0.000878  ...   0.001520   \n",
       "you            0.009405      0.012675          0.008255  ...   0.014553   \n",
       "your           0.005326      0.005908          0.004128  ...   0.002824   \n",
       " length      121.368687     46.783920        111.087805  ...  23.135678   \n",
       "\n",
       "         188_human  189_human  190_human  191_human  192_human  193_human  \\\n",
       "10        0.004165   0.003317   0.001445   0.003271   0.001777   0.002565   \n",
       "about     0.003597   0.002211   0.003612   0.002249   0.006122   0.003248   \n",
       "all       0.001325   0.001474   0.003034   0.002045   0.001382   0.003248   \n",
       "also      0.000379   0.000921   0.001011   0.000613   0.000790   0.000171   \n",
       "am        0.000757   0.000921   0.001156   0.000204   0.001185   0.000513   \n",
       "...            ...        ...        ...        ...        ...        ...   \n",
       "world     0.001515   0.000921   0.000578   0.001431   0.000197   0.000513   \n",
       "would     0.001325   0.001658   0.002167   0.001840   0.001975   0.001710   \n",
       "you       0.013063   0.011056   0.011415   0.008383   0.015403   0.017268   \n",
       "your      0.002651   0.004422   0.003323   0.001227   0.005332   0.005471   \n",
       " length  26.410000  27.271357  34.605000  24.455000  25.447236  29.245000   \n",
       "\n",
       "         194_human  195_human  196_human  \n",
       "10        0.002035   0.001960   0.002877  \n",
       "about     0.003758   0.003431   0.002110  \n",
       "all       0.001879   0.001307   0.001726  \n",
       "also      0.000313   0.000163   0.001343  \n",
       "am        0.000313   0.001960   0.000959  \n",
       "...            ...        ...        ...  \n",
       "world     0.000939   0.000327   0.001151  \n",
       "would     0.002349   0.001634   0.001726  \n",
       "you       0.012995   0.014540   0.009973  \n",
       "your      0.005636   0.002451   0.002493  \n",
       " length  32.095477  30.605000  26.070000  \n",
       "\n",
       "[132 rows x 570 columns]"
      ]
     },
     "execution_count": 46,
     "metadata": {},
     "output_type": "execute_result"
    }
   ],
   "source": [
    "def common_tokens(dataset, holdout_dataset) :\n",
    "    human_dataset = dataset[[name for name in dataset.columns if 'human' in name]].copy()\n",
    "    llm_dataset = dataset[[name for name in dataset.columns if not 'human' in name]].copy()\n",
    "    dataset = pd.merge(llm_dataset[llm_dataset.ne(0).sum(axis=1) == llm_dataset.shape[1]], human_dataset, left_index=True, right_index=True, validate='1:1')\n",
    "    holdout_dataset = holdout_dataset.loc[dataset.index].copy()\n",
    "    return dataset, holdout_dataset\n",
    "\n",
    "training_dataset, holdout_dataset = common_tokens(training_dataset, holdout_dataset)\n",
    "training_dataset"
   ]
  },
  {
   "cell_type": "markdown",
   "id": "802f3526-9fc8-45a2-a811-eda815e44805",
   "metadata": {},
   "source": [
    "# Centring"
   ]
  },
  {
   "cell_type": "code",
   "execution_count": 47,
   "id": "2bc08701-39eb-4c44-a290-782981174e3e",
   "metadata": {},
   "outputs": [
    {
     "data": {
      "text/html": [
       "<div>\n",
       "<style scoped>\n",
       "    .dataframe tbody tr th:only-of-type {\n",
       "        vertical-align: middle;\n",
       "    }\n",
       "\n",
       "    .dataframe tbody tr th {\n",
       "        vertical-align: top;\n",
       "    }\n",
       "\n",
       "    .dataframe thead th {\n",
       "        text-align: right;\n",
       "    }\n",
       "</style>\n",
       "<table border=\"1\" class=\"dataframe\">\n",
       "  <thead>\n",
       "    <tr style=\"text-align: right;\">\n",
       "      <th></th>\n",
       "      <th>0_claude-instant-v1</th>\n",
       "      <th>0_RWKV-4-Raven-14B</th>\n",
       "      <th>0_oasst-pythia-12b</th>\n",
       "      <th>0_chatglm-6b</th>\n",
       "      <th>0_palm-2</th>\n",
       "      <th>0_dolly-v2-12b</th>\n",
       "      <th>0_koala-13b</th>\n",
       "      <th>0_wizardlm-13b</th>\n",
       "      <th>0_alpaca-13b</th>\n",
       "      <th>0_fastchat-t5-3b</th>\n",
       "      <th>...</th>\n",
       "      <th>187_human</th>\n",
       "      <th>188_human</th>\n",
       "      <th>189_human</th>\n",
       "      <th>190_human</th>\n",
       "      <th>191_human</th>\n",
       "      <th>192_human</th>\n",
       "      <th>193_human</th>\n",
       "      <th>194_human</th>\n",
       "      <th>195_human</th>\n",
       "      <th>196_human</th>\n",
       "    </tr>\n",
       "  </thead>\n",
       "  <tbody>\n",
       "    <tr>\n",
       "      <th>length</th>\n",
       "      <td>61.190816</td>\n",
       "      <td>23.043714</td>\n",
       "      <td>16.093966</td>\n",
       "      <td>60.988438</td>\n",
       "      <td>59.802843</td>\n",
       "      <td>-24.195782</td>\n",
       "      <td>57.696177</td>\n",
       "      <td>38.904863</td>\n",
       "      <td>-35.679904</td>\n",
       "      <td>28.623981</td>\n",
       "      <td>...</td>\n",
       "      <td>-59.328145</td>\n",
       "      <td>-56.053823</td>\n",
       "      <td>-55.192467</td>\n",
       "      <td>-47.858823</td>\n",
       "      <td>-58.008823</td>\n",
       "      <td>-57.016587</td>\n",
       "      <td>-53.218823</td>\n",
       "      <td>-50.368346</td>\n",
       "      <td>-51.858823</td>\n",
       "      <td>-56.393823</td>\n",
       "    </tr>\n",
       "  </tbody>\n",
       "</table>\n",
       "<p>1 rows × 570 columns</p>\n",
       "</div>"
      ],
      "text/plain": [
       "         0_claude-instant-v1  0_RWKV-4-Raven-14B  0_oasst-pythia-12b  \\\n",
       " length            61.190816           23.043714           16.093966   \n",
       "\n",
       "         0_chatglm-6b   0_palm-2  0_dolly-v2-12b  0_koala-13b  0_wizardlm-13b  \\\n",
       " length     60.988438  59.802843      -24.195782    57.696177       38.904863   \n",
       "\n",
       "         0_alpaca-13b  0_fastchat-t5-3b  ...  187_human  188_human  189_human  \\\n",
       " length    -35.679904         28.623981  ... -59.328145 -56.053823 -55.192467   \n",
       "\n",
       "         190_human  191_human  192_human  193_human  194_human  195_human  \\\n",
       " length -47.858823 -58.008823 -57.016587 -53.218823 -50.368346 -51.858823   \n",
       "\n",
       "         196_human  \n",
       " length -56.393823  \n",
       "\n",
       "[1 rows x 570 columns]"
      ]
     },
     "execution_count": 47,
     "metadata": {},
     "output_type": "execute_result"
    }
   ],
   "source": [
    "def centre(dataset, holdout_dataset) :\n",
    "    features_mean = pd.Series({feature: np.mean(dataset.loc[feature]) for feature in dataset.index})\n",
    "    for batch in dataset.columns :\n",
    "        dataset[batch] -= features_mean\n",
    "    for batch in holdout_dataset.columns :\n",
    "        holdout_dataset[batch] -= features_mean\n",
    "    return dataset, holdout_dataset\n",
    "    \n",
    "training_dataset, holdout_dataset = centre(training_dataset, holdout_dataset)\n",
    "training_dataset[training_dataset.index == ' length']"
   ]
  },
  {
   "cell_type": "markdown",
   "id": "68cac452-bea1-486b-a808-5c7598fec34a",
   "metadata": {},
   "source": [
    "# Standardisation"
   ]
  },
  {
   "cell_type": "code",
   "execution_count": 48,
   "id": "600abda5-7eb3-49bc-993b-7a6112b50b89",
   "metadata": {},
   "outputs": [
    {
     "data": {
      "text/html": [
       "<div>\n",
       "<style scoped>\n",
       "    .dataframe tbody tr th:only-of-type {\n",
       "        vertical-align: middle;\n",
       "    }\n",
       "\n",
       "    .dataframe tbody tr th {\n",
       "        vertical-align: top;\n",
       "    }\n",
       "\n",
       "    .dataframe thead th {\n",
       "        text-align: right;\n",
       "    }\n",
       "</style>\n",
       "<table border=\"1\" class=\"dataframe\">\n",
       "  <thead>\n",
       "    <tr style=\"text-align: right;\">\n",
       "      <th></th>\n",
       "      <th>0_claude-instant-v1</th>\n",
       "      <th>0_RWKV-4-Raven-14B</th>\n",
       "      <th>0_oasst-pythia-12b</th>\n",
       "      <th>0_chatglm-6b</th>\n",
       "      <th>0_palm-2</th>\n",
       "      <th>0_dolly-v2-12b</th>\n",
       "      <th>0_koala-13b</th>\n",
       "      <th>0_wizardlm-13b</th>\n",
       "      <th>0_alpaca-13b</th>\n",
       "      <th>0_fastchat-t5-3b</th>\n",
       "      <th>...</th>\n",
       "      <th>187_human</th>\n",
       "      <th>188_human</th>\n",
       "      <th>189_human</th>\n",
       "      <th>190_human</th>\n",
       "      <th>191_human</th>\n",
       "      <th>192_human</th>\n",
       "      <th>193_human</th>\n",
       "      <th>194_human</th>\n",
       "      <th>195_human</th>\n",
       "      <th>196_human</th>\n",
       "    </tr>\n",
       "  </thead>\n",
       "  <tbody>\n",
       "    <tr>\n",
       "      <th>length</th>\n",
       "      <td>1.307067</td>\n",
       "      <td>0.492225</td>\n",
       "      <td>0.343775</td>\n",
       "      <td>1.302744</td>\n",
       "      <td>1.277419</td>\n",
       "      <td>-0.516834</td>\n",
       "      <td>1.232419</td>\n",
       "      <td>0.831028</td>\n",
       "      <td>-0.762141</td>\n",
       "      <td>0.611423</td>\n",
       "      <td>...</td>\n",
       "      <td>-1.267279</td>\n",
       "      <td>-1.197338</td>\n",
       "      <td>-1.178939</td>\n",
       "      <td>-1.022289</td>\n",
       "      <td>-1.239098</td>\n",
       "      <td>-1.217903</td>\n",
       "      <td>-1.136781</td>\n",
       "      <td>-1.075893</td>\n",
       "      <td>-1.107731</td>\n",
       "      <td>-1.204601</td>\n",
       "    </tr>\n",
       "  </tbody>\n",
       "</table>\n",
       "<p>1 rows × 570 columns</p>\n",
       "</div>"
      ],
      "text/plain": [
       "         0_claude-instant-v1  0_RWKV-4-Raven-14B  0_oasst-pythia-12b  \\\n",
       " length             1.307067            0.492225            0.343775   \n",
       "\n",
       "         0_chatglm-6b  0_palm-2  0_dolly-v2-12b  0_koala-13b  0_wizardlm-13b  \\\n",
       " length      1.302744  1.277419       -0.516834     1.232419        0.831028   \n",
       "\n",
       "         0_alpaca-13b  0_fastchat-t5-3b  ...  187_human  188_human  189_human  \\\n",
       " length     -0.762141          0.611423  ...  -1.267279  -1.197338  -1.178939   \n",
       "\n",
       "         190_human  191_human  192_human  193_human  194_human  195_human  \\\n",
       " length  -1.022289  -1.239098  -1.217903  -1.136781  -1.075893  -1.107731   \n",
       "\n",
       "         196_human  \n",
       " length  -1.204601  \n",
       "\n",
       "[1 rows x 570 columns]"
      ]
     },
     "execution_count": 48,
     "metadata": {},
     "output_type": "execute_result"
    }
   ],
   "source": [
    "def standardise(dataset, holdout_dataset) :\n",
    "    features_std = pd.Series({feature: np.std(dataset.loc[feature]) for feature in dataset.index})\n",
    "    for batch in dataset.columns :\n",
    "        dataset[batch] /= features_std\n",
    "    for batch in holdout_dataset.columns :\n",
    "        holdout_dataset[batch] /= features_std\n",
    "    return dataset, holdout_dataset\n",
    "    \n",
    "training_dataset, holdout_dataset = standardise(training_dataset, holdout_dataset)\n",
    "training_dataset[training_dataset.index == ' length']"
   ]
  },
  {
   "cell_type": "code",
   "execution_count": 49,
   "id": "0a0355b0-f917-492d-a455-6974b52b7537",
   "metadata": {},
   "outputs": [
    {
     "name": "stderr",
     "output_type": "stream",
     "text": [
      "C:\\Users\\Homeworkace\\AppData\\Local\\Temp\\ipykernel_4824\\1364267143.py:12: UserWarning: Matplotlib is currently using module://matplotlib_inline.backend_inline, which is a non-GUI backend, so cannot show the figure.\n",
      "  feature_graph_figure.show()\n"
     ]
    },
    {
     "data": {
      "image/png": "[encoded data removed]",
      "text/plain": [
       "<Figure size 800x600 with 1 Axes>"
      ]
     },
     "metadata": {},
     "output_type": "display_data"
    }
   ],
   "source": [
    "# Extracting the two features\n",
    "x_token = training_dataset.index[-2]\n",
    "y_token = training_dataset.index[-1]\n",
    "\n",
    "# Creating the scatter plot\n",
    "feature_graph_figure = plt.figure(figsize=(8, 6))\n",
    "feature_graph = feature_graph_figure.subplots()\n",
    "feature_graph.scatter(training_dataset.loc[x_token], training_dataset.loc[y_token], color='blue', alpha=0.7)\n",
    "feature_graph.set_xlabel(\"Feature '\" + x_token + \"'\")\n",
    "feature_graph.set_ylabel(\"Feature '\" + y_token + \"'\")\n",
    "feature_graph.grid(True)\n",
    "feature_graph_figure.show()"
   ]
  },
  {
   "cell_type": "code",
   "execution_count": 207,
   "id": "7828b582-fdd1-4580-b44d-2bb286d459a3",
   "metadata": {},
   "outputs": [],
   "source": [
    "def power_iteration(A, num_iter, tol, single_run_diagnostics = False):\n",
    "    \"\"\"\n",
    "    Power Iteration to compute the largest eigenvector of matrix A.\n",
    "    Args:\n",
    "        A (np.ndarray): Input symmetric matrix.\n",
    "        num_iter (int): Number of iterations.\n",
    "        tol (float): Tolerance for convergence.\n",
    "\n",
    "    Returns:\n",
    "        eigenvector (np.ndarray): Approximation of the largest eigenvector.\n",
    "        eigenvalue (float): Corresponding eigenvalue.\n",
    "    \"\"\"\n",
    "    b = np.random.rand(A.shape[1])  # Random initial vector\n",
    "    b = b / np.linalg.norm(b)\n",
    "\n",
    "    if single_run_diagnostics :\n",
    "        error_meter = tqdm(position = 0, total=7, bar_format='{bar} | {postfix}')\n",
    "    for i in range(num_iter):\n",
    "        b_next = A @ b  # Matrix-vector multiplication\n",
    "        b_next = b_next / np.linalg.norm(b_next)  # Normalize\n",
    "        \n",
    "        # Check for convergence\n",
    "        error = np.linalg.norm(b_next - b)\n",
    "        b = b_next\n",
    "        if single_run_diagnostics :\n",
    "            error_meter.update(min(-np.log10(error), error_meter.total) - error_meter.n)\n",
    "            error_meter.set_postfix_str('{:.2E}'.format(error) + ' of error after ' + str(i + 1) + ' iterations...')\n",
    "        if error < tol:\n",
    "            if single_run_diagnostics :\n",
    "                error_meter.close()\n",
    "            break\n",
    "\n",
    "    eigenvalue = b.T @ A @ b  # Rayleigh quotient for eigenvalue\n",
    "    return b, eigenvalue"
   ]
  },
  {
   "cell_type": "code",
   "execution_count": 190,
   "id": "e80f551f-8f51-4519-b5c5-12f33b2acb17",
   "metadata": {},
   "outputs": [],
   "source": [
    "def pca_power_iteration(data, num_components, num_iter, single_run_diagnostics = False):\n",
    "    \"\"\"\n",
    "    PCA using Power Iteration to compute the principal components.\n",
    "    Args:\n",
    "        data (np.ndarray): Input data matrix (rows are samples, columns are features).\n",
    "        num_components (int): Number of principal components to compute.\n",
    "        num_iter (int): Number of iterations for power iteration.\n",
    "\n",
    "    Returns:\n",
    "        components (list): List of principal components (eigenvectors).\n",
    "        explained_variance (list): List of corresponding eigenvalues.\n",
    "    \"\"\"\n",
    "    covariance_matrix = np.cov(data, rowvar=True, ddof = 0)\n",
    "    \n",
    "    # Compute covariance matrix manually\n",
    "    n = data.shape[1]  # Number of samples (columns in your case)\n",
    "    covariance_matrix = (data @ data.T) / n\n",
    "\n",
    "    components = []\n",
    "    explained_variance = []\n",
    "\n",
    "    for i in range(num_components):\n",
    "        # Step 2: Compute the largest eigenvector using power iteration\n",
    "        if single_run_diagnostics :\n",
    "            print('Computing PC' + str(i + 1) + '...')\n",
    "        eigenvector, eigenvalue = power_iteration(covariance_matrix, num_iter, 1e-7, single_run_diagnostics)\n",
    "        components.append(eigenvector)\n",
    "        explained_variance.append(eigenvalue)\n",
    "        \n",
    "        # Step 3: Deflate the covariance matrix\n",
    "        covariance_matrix -= eigenvalue * np.outer(eigenvector, eigenvector)\n",
    "        if np.linalg.norm(covariance_matrix, ord='fro') < 1e-10 :\n",
    "            if single_run_diagnostics :\n",
    "                print('Stopped as all variance has been extracted after computing ' + str(i + 1) + ' PCs.')\n",
    "            break\n",
    "        \n",
    "    return components, explained_variance"
   ]
  },
  {
   "cell_type": "code",
   "execution_count": 52,
   "id": "e1c9e8da-7ddd-49f9-b056-24a83a5293f6",
   "metadata": {},
   "outputs": [
    {
     "name": "stdout",
     "output_type": "stream",
     "text": [
      "Computing PC1...\n"
     ]
    },
    {
     "name": "stderr",
     "output_type": "stream",
     "text": [
      "██████████████████████████████████████████████████████████████████████████ | , 3.85E-07 of error after 13 iterations...\n"
     ]
    },
    {
     "name": "stdout",
     "output_type": "stream",
     "text": [
      "Computing PC2...\n"
     ]
    },
    {
     "name": "stderr",
     "output_type": "stream",
     "text": [
      "██████████████████████████████████████████████████████████████████████████ | , 7.81E-07 of error after 41 iterations...\n"
     ]
    },
    {
     "name": "stdout",
     "output_type": "stream",
     "text": [
      "Computing PC3...\n"
     ]
    },
    {
     "name": "stderr",
     "output_type": "stream",
     "text": [
      "██████████████████████████████████████████████████████████████████████████ | , 6.78E-07 of error after 28 iterations...\n"
     ]
    },
    {
     "name": "stdout",
     "output_type": "stream",
     "text": [
      "Computing PC4...\n"
     ]
    },
    {
     "name": "stderr",
     "output_type": "stream",
     "text": [
      "██████████████████████████████████████████████████████████████████████████ | , 9.03E-07 of error after 34 iterations...\n"
     ]
    },
    {
     "name": "stdout",
     "output_type": "stream",
     "text": [
      "Computing PC5...\n"
     ]
    },
    {
     "name": "stderr",
     "output_type": "stream",
     "text": [
      "█████████████████████████████████████████████████████████████████████████ | , 9.34E-07 of error after 102 iterations...\n"
     ]
    },
    {
     "name": "stdout",
     "output_type": "stream",
     "text": [
      "Computing PC6...\n"
     ]
    },
    {
     "name": "stderr",
     "output_type": "stream",
     "text": [
      "██████████████████████████████████████████████████████████████████████████ | , 9.46E-07 of error after 84 iterations...\n"
     ]
    },
    {
     "name": "stdout",
     "output_type": "stream",
     "text": [
      "Computing PC7...\n"
     ]
    },
    {
     "name": "stderr",
     "output_type": "stream",
     "text": [
      "█████████████████████████████████████████████████████████████████████████ | , 9.99E-07 of error after 237 iterations...\n"
     ]
    },
    {
     "name": "stdout",
     "output_type": "stream",
     "text": [
      "Computing PC8...\n"
     ]
    },
    {
     "name": "stderr",
     "output_type": "stream",
     "text": [
      "█████████████████████████████████████████████████████████████████████████ | , 9.75E-07 of error after 219 iterations...\n"
     ]
    },
    {
     "name": "stdout",
     "output_type": "stream",
     "text": [
      "Computing PC9...\n"
     ]
    },
    {
     "name": "stderr",
     "output_type": "stream",
     "text": [
      "█████████████████████████████████████████████████████████████████████████ | , 9.73E-07 of error after 333 iterations...\n"
     ]
    },
    {
     "name": "stdout",
     "output_type": "stream",
     "text": [
      "Computing PC10...\n"
     ]
    },
    {
     "name": "stderr",
     "output_type": "stream",
     "text": [
      "█████████████████████████████████████████████████████████████████████████ | , 9.91E-07 of error after 286 iterations...\n"
     ]
    },
    {
     "name": "stdout",
     "output_type": "stream",
     "text": [
      "Computing PC11...\n"
     ]
    },
    {
     "name": "stderr",
     "output_type": "stream",
     "text": [
      "█████████████████████████████████████████████████████████████████████████ | , 9.81E-07 of error after 175 iterations...\n"
     ]
    },
    {
     "name": "stdout",
     "output_type": "stream",
     "text": [
      "Computing PC12...\n"
     ]
    },
    {
     "name": "stderr",
     "output_type": "stream",
     "text": [
      "█████████████████████████████████████████████████████████████████████████ | , 9.91E-07 of error after 725 iterations...\n"
     ]
    },
    {
     "name": "stdout",
     "output_type": "stream",
     "text": [
      "Computing PC13...\n"
     ]
    },
    {
     "name": "stderr",
     "output_type": "stream",
     "text": [
      "█████████████████████████████████████████████████████████████████████████ | , 9.78E-07 of error after 465 iterations...\n"
     ]
    },
    {
     "name": "stdout",
     "output_type": "stream",
     "text": [
      "Computing PC14...\n"
     ]
    },
    {
     "name": "stderr",
     "output_type": "stream",
     "text": [
      "████████████████████████████████████████████████████████████████████████ | , 9.97E-07 of error after 1200 iterations...\n"
     ]
    },
    {
     "name": "stdout",
     "output_type": "stream",
     "text": [
      "Computing PC15...\n"
     ]
    },
    {
     "name": "stderr",
     "output_type": "stream",
     "text": [
      "█████████████████████████████████████████████████████████████████████████ | , 9.69E-07 of error after 276 iterations...\n"
     ]
    },
    {
     "name": "stdout",
     "output_type": "stream",
     "text": [
      "Computing PC16...\n"
     ]
    },
    {
     "name": "stderr",
     "output_type": "stream",
     "text": [
      "█████████████████████████████████████████████████████████████████████████ | , 9.94E-07 of error after 562 iterations...\n"
     ]
    },
    {
     "name": "stdout",
     "output_type": "stream",
     "text": [
      "Computing PC17...\n"
     ]
    },
    {
     "name": "stderr",
     "output_type": "stream",
     "text": [
      "█████████████████████████████████████████████████████████████████████████ | , 9.92E-07 of error after 584 iterations...\n"
     ]
    },
    {
     "name": "stdout",
     "output_type": "stream",
     "text": [
      "Computing PC18...\n"
     ]
    },
    {
     "name": "stderr",
     "output_type": "stream",
     "text": [
      "█████████████████████████████████████████████████████████████████████████ | , 9.82E-07 of error after 326 iterations...\n"
     ]
    },
    {
     "name": "stdout",
     "output_type": "stream",
     "text": [
      "Computing PC19...\n"
     ]
    },
    {
     "name": "stderr",
     "output_type": "stream",
     "text": [
      "█████████████████████████████████████████████████████████████████████████ | , 9.96E-07 of error after 277 iterations...\n"
     ]
    },
    {
     "name": "stdout",
     "output_type": "stream",
     "text": [
      "Computing PC20...\n"
     ]
    },
    {
     "name": "stderr",
     "output_type": "stream",
     "text": [
      "████████████████████████████████████████████████████████████████         | , 4.63E-06 of error after 2000 iterations...\n"
     ]
    },
    {
     "name": "stdout",
     "output_type": "stream",
     "text": [
      "Computing PC21...\n"
     ]
    },
    {
     "name": "stderr",
     "output_type": "stream",
     "text": [
      "█████████████████████████████████████████████████████████████████████████ | , 9.78E-07 of error after 247 iterations...\n"
     ]
    },
    {
     "name": "stdout",
     "output_type": "stream",
     "text": [
      "Computing PC22...\n"
     ]
    },
    {
     "name": "stderr",
     "output_type": "stream",
     "text": [
      "█████████████████████████████████████████████████████████████████████████ | , 9.84E-07 of error after 397 iterations...\n"
     ]
    },
    {
     "name": "stdout",
     "output_type": "stream",
     "text": [
      "Computing PC23...\n"
     ]
    },
    {
     "name": "stderr",
     "output_type": "stream",
     "text": [
      "█████████████████████████████████████████████████████████████████████████ | , 9.94E-07 of error after 300 iterations...\n"
     ]
    },
    {
     "name": "stdout",
     "output_type": "stream",
     "text": [
      "Computing PC24...\n"
     ]
    },
    {
     "name": "stderr",
     "output_type": "stream",
     "text": [
      "█████████████████████████████████████████████████████████████████████████ | , 9.69E-07 of error after 309 iterations...\n"
     ]
    },
    {
     "name": "stdout",
     "output_type": "stream",
     "text": [
      "Computing PC25...\n"
     ]
    },
    {
     "name": "stderr",
     "output_type": "stream",
     "text": [
      "████████████████████████████████████████████████████████████████████████ | , 9.95E-07 of error after 1774 iterations...\n"
     ]
    },
    {
     "name": "stdout",
     "output_type": "stream",
     "text": [
      "Computing PC26...\n"
     ]
    },
    {
     "name": "stderr",
     "output_type": "stream",
     "text": [
      "█████████████████████████████████████████████████████████████████████████ | , 9.84E-07 of error after 372 iterations...\n"
     ]
    },
    {
     "name": "stdout",
     "output_type": "stream",
     "text": [
      "Computing PC27...\n"
     ]
    },
    {
     "name": "stderr",
     "output_type": "stream",
     "text": [
      "█████████████████████████████████████████████████████████████████████████ | , 9.82E-07 of error after 443 iterations...\n"
     ]
    },
    {
     "name": "stdout",
     "output_type": "stream",
     "text": [
      "Computing PC28...\n"
     ]
    },
    {
     "name": "stderr",
     "output_type": "stream",
     "text": [
      "█████████████████████████████████████████████████████████████████████████ | , 9.90E-07 of error after 778 iterations...\n"
     ]
    },
    {
     "name": "stdout",
     "output_type": "stream",
     "text": [
      "Computing PC29...\n"
     ]
    },
    {
     "name": "stderr",
     "output_type": "stream",
     "text": [
      "█████████████████████████████████████████████████████████████████████████ | , 9.87E-07 of error after 727 iterations...\n"
     ]
    },
    {
     "name": "stdout",
     "output_type": "stream",
     "text": [
      "Computing PC30...\n"
     ]
    },
    {
     "name": "stderr",
     "output_type": "stream",
     "text": [
      "█████████████████████████████████████████████████████████████████████████ | , 9.85E-07 of error after 325 iterations...\n"
     ]
    },
    {
     "name": "stdout",
     "output_type": "stream",
     "text": [
      "Computing PC31...\n"
     ]
    },
    {
     "name": "stderr",
     "output_type": "stream",
     "text": [
      "████████████████████████████████████████████████████▊                    | , 3.94E-05 of error after 2000 iterations...\n"
     ]
    },
    {
     "name": "stdout",
     "output_type": "stream",
     "text": [
      "Computing PC32...\n"
     ]
    },
    {
     "name": "stderr",
     "output_type": "stream",
     "text": [
      "█████████████████████████████████████████████████████████████████████████ | , 1.00E-06 of error after 712 iterations...\n"
     ]
    },
    {
     "name": "stdout",
     "output_type": "stream",
     "text": [
      "Computing PC33...\n"
     ]
    },
    {
     "name": "stderr",
     "output_type": "stream",
     "text": [
      "█████████████████████████████████████████████████████████████████████████ | , 9.81E-07 of error after 541 iterations...\n"
     ]
    },
    {
     "name": "stdout",
     "output_type": "stream",
     "text": [
      "Computing PC34...\n"
     ]
    },
    {
     "name": "stderr",
     "output_type": "stream",
     "text": [
      "█████████████████████████████████████████████████████████████████████████ | , 9.99E-07 of error after 572 iterations...\n"
     ]
    },
    {
     "name": "stdout",
     "output_type": "stream",
     "text": [
      "Computing PC35...\n"
     ]
    },
    {
     "name": "stderr",
     "output_type": "stream",
     "text": [
      "█████████████████████████████████████████████████████████████████████████ | , 9.99E-07 of error after 354 iterations...\n"
     ]
    },
    {
     "name": "stdout",
     "output_type": "stream",
     "text": [
      "Computing PC36...\n"
     ]
    },
    {
     "name": "stderr",
     "output_type": "stream",
     "text": [
      "█████████████████████████████████████████████████████████████████████████ | , 9.90E-07 of error after 529 iterations...\n"
     ]
    },
    {
     "name": "stdout",
     "output_type": "stream",
     "text": [
      "Computing PC37...\n"
     ]
    },
    {
     "name": "stderr",
     "output_type": "stream",
     "text": [
      "████████████████████████████████████████████████████████████████████████ | , 9.95E-07 of error after 1647 iterations...\n"
     ]
    },
    {
     "name": "stdout",
     "output_type": "stream",
     "text": [
      "Computing PC38...\n"
     ]
    },
    {
     "name": "stderr",
     "output_type": "stream",
     "text": [
      "█████████████████████████████████████████████████████████████████████████ | , 9.70E-07 of error after 268 iterations...\n"
     ]
    },
    {
     "name": "stdout",
     "output_type": "stream",
     "text": [
      "Computing PC39...\n"
     ]
    },
    {
     "name": "stderr",
     "output_type": "stream",
     "text": [
      "████████████████████████████████████████████████████████████████████████ | , 9.94E-07 of error after 1144 iterations...\n"
     ]
    },
    {
     "name": "stdout",
     "output_type": "stream",
     "text": [
      "Computing PC40...\n"
     ]
    },
    {
     "name": "stderr",
     "output_type": "stream",
     "text": [
      "█████████████████████████████████████████████████████████████████████████ | , 9.89E-07 of error after 621 iterations...\n"
     ]
    },
    {
     "name": "stdout",
     "output_type": "stream",
     "text": [
      "Computing PC41...\n"
     ]
    },
    {
     "name": "stderr",
     "output_type": "stream",
     "text": [
      "█████████████████████████████████████████████████████████████████████████ | , 9.86E-07 of error after 495 iterations...\n"
     ]
    },
    {
     "name": "stdout",
     "output_type": "stream",
     "text": [
      "Computing PC42...\n"
     ]
    },
    {
     "name": "stderr",
     "output_type": "stream",
     "text": [
      "████████████████████████████████████████████████████████████████████████ | , 9.95E-07 of error after 1280 iterations...\n"
     ]
    },
    {
     "name": "stdout",
     "output_type": "stream",
     "text": [
      "Computing PC43...\n"
     ]
    },
    {
     "name": "stderr",
     "output_type": "stream",
     "text": [
      "█████████████████████████████████████████████████████████████████████████ | , 9.71E-07 of error after 331 iterations...\n"
     ]
    },
    {
     "name": "stdout",
     "output_type": "stream",
     "text": [
      "Computing PC44...\n"
     ]
    },
    {
     "name": "stderr",
     "output_type": "stream",
     "text": [
      "█████████████████████████████████████████████████████████████████████████ | , 1.00E-06 of error after 977 iterations...\n"
     ]
    },
    {
     "name": "stdout",
     "output_type": "stream",
     "text": [
      "Computing PC45...\n"
     ]
    },
    {
     "name": "stderr",
     "output_type": "stream",
     "text": [
      "████████████████████████████████████████████████████████████████████████ | , 9.96E-07 of error after 1213 iterations...\n"
     ]
    },
    {
     "name": "stdout",
     "output_type": "stream",
     "text": [
      "Computing PC46...\n"
     ]
    },
    {
     "name": "stderr",
     "output_type": "stream",
     "text": [
      "█████████████████████████████████████████████████████████████████████████ | , 9.99E-07 of error after 374 iterations...\n"
     ]
    },
    {
     "name": "stdout",
     "output_type": "stream",
     "text": [
      "Computing PC47...\n"
     ]
    },
    {
     "name": "stderr",
     "output_type": "stream",
     "text": [
      "█████████████████████████████████████████████████████████████████████████ | , 9.97E-07 of error after 794 iterations...\n"
     ]
    },
    {
     "name": "stdout",
     "output_type": "stream",
     "text": [
      "Computing PC48...\n"
     ]
    },
    {
     "name": "stderr",
     "output_type": "stream",
     "text": [
      "█████████████████████████████████████████████████████████████████████████ | , 9.82E-07 of error after 409 iterations...\n"
     ]
    },
    {
     "name": "stdout",
     "output_type": "stream",
     "text": [
      "Computing PC49...\n"
     ]
    },
    {
     "name": "stderr",
     "output_type": "stream",
     "text": [
      "████████████████████████████████████████████████████████████████████████ | , 9.97E-07 of error after 1793 iterations...\n"
     ]
    },
    {
     "name": "stdout",
     "output_type": "stream",
     "text": [
      "Computing PC50...\n"
     ]
    },
    {
     "name": "stderr",
     "output_type": "stream",
     "text": [
      "█████████████████████████████████████████████████████████████████████████ | , 9.85E-07 of error after 345 iterations...\n"
     ]
    }
   ],
   "source": [
    "components, explained_variance = pca_power_iteration(training_dataset, 50, 2000, True)"
   ]
  },
  {
   "cell_type": "code",
   "execution_count": 53,
   "id": "45af60af-31bd-4f46-adfd-a36077e7072e",
   "metadata": {},
   "outputs": [
    {
     "data": {
      "image/png": "[encoded data removed]",
      "text/plain": [
       "<Figure size 1000x600 with 1 Axes>"
      ]
     },
     "metadata": {},
     "output_type": "display_data"
    }
   ],
   "source": [
    "plt.figure(figsize=(10, 6))\n",
    "plt.xticks(range(0, 51, 5))\n",
    "plt.xlim(1, 50)\n",
    "plt.yscale('log')\n",
    "plt.ylim(0.75, 100)\n",
    "plt.yticks([1, 10, 100], labels=[\"1%\", \"10%\", \"100%\"])\n",
    "plt.plot(range(1, 51), explained_variance)\n",
    "plt.plot(range(1, 51), [np.sum(explained_variance[:i]) for i in range(1, 51)])\n",
    "\n",
    "# Points of interest\n",
    "plt.scatter(42, np.sum(explained_variance[:42]), color='orange')\n",
    "plt.annotate('{0:.2f}'.format(np.sum(explained_variance[:42])) + '% at PC42' , (42, np.sum(explained_variance[:42])), ha = 'center', va = 'top')\n",
    "plt.scatter(50, np.sum(explained_variance), color='orange')\n",
    "plt.annotate('{0:.2f}'.format(np.sum(explained_variance)) + '% at PC50' , (50, np.sum(explained_variance)), ha = 'center', va = 'bottom')\n",
    "plt.scatter(38, explained_variance[37], color='blue')\n",
    "plt.annotate('{0:.2f}'.format(explained_variance[37]) + '% from PC38' , (38, explained_variance[37]), ha = 'center', va = 'bottom')\n",
    "\n",
    "plt.title('Individual and cumulative variance from training seed 0')\n",
    "plt.xlabel('Principal Component')\n",
    "plt.ylabel('Explained Variance')\n",
    "plt.grid(True)\n",
    "plt.minorticks_on()\n",
    "#plt.grid(axis = 'x', which = 'minor')\n",
    "plt.grid(which='minor', axis='x', linestyle=':', linewidth=0.5)  # Minor grid lines on X-axis\n",
    "plt.grid(which='minor', axis='y', linestyle=':', linewidth=0.5)  # Minor grid lines on X-axis\n",
    "plt.show()"
   ]
  },
  {
   "cell_type": "code",
   "execution_count": 54,
   "id": "6ff157af-d70c-4ed9-98e9-e55bb7c39dba",
   "metadata": {},
   "outputs": [],
   "source": [
    "def transform_to_pc(batch, components) :\n",
    "    pc_space_batch = []\n",
    "    for component in components :\n",
    "        pc_space_batch.append(np.dot(batch, component))\n",
    "        \n",
    "    return pc_space_batch"
   ]
  },
  {
   "cell_type": "code",
   "execution_count": 63,
   "id": "2e4938c0-7c70-493c-9ee8-b6c9d6b4255b",
   "metadata": {},
   "outputs": [
    {
     "name": "stderr",
     "output_type": "stream",
     "text": [
      "C:\\Users\\Homeworkace\\AppData\\Local\\Temp\\ipykernel_4824\\2283644654.py:21: UserWarning: Matplotlib is currently using module://matplotlib_inline.backend_inline, which is a non-GUI backend, so cannot show the figure.\n",
      "  feature_graph_figure.show()\n"
     ]
    },
    {
     "data": {
      "image/png": "[encoded data removed]",
      "text/plain": [
       "<Figure size 1500x1500 with 1 Axes>"
      ]
     },
     "metadata": {},
     "output_type": "display_data"
    }
   ],
   "source": [
    "# Define a colour and marker shape for each author using a non-integer index; the integer part determines the shape and the decimal part the colour.\n",
    "marker_list = {author: i * 5 / len(set(authors)) for i, author in enumerate(list(set(authors)))}\n",
    "\n",
    "# Plot all training and holdout batches, but in five groups, with a shape for each.\n",
    "labels = [batch.split('_')[1] for batch in training_dataset] + [batch.split('_')[1] for batch in holdout_dataset]\n",
    "coords = [transform_to_pc(training_dataset[batch], components) for batch in training_dataset] + [transform_to_pc(holdout_dataset[batch], components) for batch in holdout_dataset]\n",
    "coord_groups = [[] for i in range(5)]\n",
    "for i in range(len(labels)) :\n",
    "    coord_groups[int(marker_list[labels[i]])].append(i)\n",
    "\n",
    "# Creating the scatter plot\n",
    "feature_graph_figure = plt.figure(figsize=(15, 15))\n",
    "feature_graph = feature_graph_figure.subplots()\n",
    "for group, marker in enumerate(['1', '2', '^', '+', 'x']) :\n",
    "    feature_graph.scatter([coords[i][0] for i in coord_groups[group]], [coords[i][1] for i in coord_groups[group]], color=[colors.hsv_to_rgb((marker_list[labels[i]] % 1, 1, 0.75)) for i in coord_groups[group]], alpha=0.7, marker = marker)\n",
    "for author in list(set(authors)):\n",
    "    feature_graph.annotate(author, np.mean([coords[i][:2] for i, name in enumerate(training_dataset.columns) if author in name], axis = 0), color = colors.hsv_to_rgb((marker_list[author] % 1, 1, 0.5)), ha = 'center', va = 'center', alpha = 0.75)\n",
    "feature_graph.set_xlabel(\"PC1\")\n",
    "feature_graph.set_ylabel(\"PC2\")\n",
    "feature_graph.grid(True)\n",
    "feature_graph_figure.show()"
   ]
  },
  {
   "cell_type": "code",
   "execution_count": 56,
   "id": "125ce453-6ab1-49bc-b9e5-5371cf0bb815",
   "metadata": {},
   "outputs": [
    {
     "name": "stdout",
     "output_type": "stream",
     "text": [
      "me -0.1745467578423828\n",
      "what -0.1742553105676804\n",
      "how -0.1676996467444047\n",
      "answer -0.1511403083380695\n",
      "do -0.1504149449252506\n",
      "about -0.131608374461303\n",
      "should -0.13079226979782158\n",
      "my -0.12142096798351597\n",
      "an -0.0941378560339982\n",
      "one -0.09390568892363794\n",
      "then -0.08141218807238794\n",
      "all -0.08075648144458748\n",
      "no -0.079235347725677\n",
      "code -0.07902299632066677\n",
      "at -0.07857871449646708\n",
      "who -0.07319851972336233\n",
      "first -0.07046111213224147\n",
      "when -0.06792317725153499\n",
      "out -0.0656087241429835\n",
      "10 -0.06505491103819053\n",
      "in -0.06427939180758545\n",
      "like -0.06179533041575807\n",
      "many -0.061090272629348845\n",
      "just -0.060373271563749456\n",
      "if -0.060244081763395074\n",
      "each -0.05878349212728485\n",
      "two -0.058111645184278\n",
      "don -0.056441455595844\n",
      "you -0.0549268575000527\n",
      "from -0.05261794442181482\n",
      "where -0.05220062921596876\n",
      "without -0.048098986734730696\n",
      "most -0.04516333177527015\n",
      "best -0.040503426191429576\n",
      "into -0.03987422659954998\n",
      "would -0.039219086744390536\n",
      "get -0.03556029717824277\n",
      "up -0.03511046147544699\n",
      "am -0.02596477739597136\n",
      "return -0.025389295199739873\n",
      "than -0.02244954762039617\n",
      "there -0.021688827514349505\n",
      "better -0.01571352663367556\n",
      "will -0.01291211309262144\n",
      "so -0.0035582033320228842\n",
      "good -0.002243028207911505\n",
      "with -0.0021809667459414136\n",
      "them -0.0018997646808199666\n",
      "but -0.0015266456074173175\n",
      "was 0.005067078588899731\n",
      "we 0.00565895391442248\n",
      "make 0.012316232297693944\n",
      "work 0.014969650454601104\n",
      "create 0.018975106218522938\n",
      "some 0.025405806514090436\n",
      "are 0.027915123262450717\n",
      "he 0.029520983438918156\n",
      "have 0.030419337677056013\n",
      "using 0.03042902269063435\n",
      "type 0.03158769985025575\n",
      "were 0.032007928005431924\n",
      "number 0.03240826679276603\n",
      "need 0.033275502434465414\n",
      "take 0.03637808588644343\n",
      "because 0.0383271144260465\n",
      "new 0.03972076545450432\n",
      "life 0.040703285694092144\n",
      "made 0.041749800466267424\n",
      "any 0.042988088339827694\n",
      "his 0.04334690192584101\n",
      "has 0.04497584573511523\n",
      "time 0.04664491868645959\n",
      "power 0.047537918345619226\n",
      "is 0.04856917738793886\n",
      "around 0.049403779516798696\n",
      "this 0.049772839580106185\n",
      "over 0.05014587097145615\n",
      "on 0.05245038271936491\n",
      "based 0.05415974827699676\n",
      "people 0.05529760988449274\n",
      "not 0.057489798182997306\n",
      "example 0.05773959801424788\n",
      "had 0.058628342841798124\n",
      "which 0.05986826589839749\n",
      "use 0.06002595707983088\n",
      "learning 0.06024151692445638\n",
      "find 0.06595760025778594\n",
      "for 0.06786122510696145\n",
      "information 0.06820054151672937\n",
      "system 0.0692921915449882\n",
      "high 0.06951702929986159\n",
      "way 0.07036817099361542\n",
      "great 0.07149920313884893\n",
      "by 0.07513838901059423\n",
      "being 0.07527394422589768\n",
      "provide 0.07599835262538823\n",
      "model 0.0766738972817289\n",
      "could 0.08363333527472941\n",
      "set 0.08643074226469653\n",
      "well 0.08877753474610227\n",
      "your 0.09026401130951253\n",
      "while 0.09049162643447711\n",
      "world 0.09168615234883415\n",
      "understand 0.09353171804930668\n",
      "making 0.09411851702231973\n",
      "more 0.09690925904751235\n",
      "been 0.1057881269785529\n",
      "these 0.1063962060365275\n",
      "they 0.11683422259880322\n",
      "their 0.1244108177916904\n",
      "sure 0.12518071172857342\n",
      "different 0.1261532698959675\n",
      "may 0.1262392130314617\n",
      "other 0.1264346604603472\n",
      "its 0.12820194093875806\n",
      "as 0.1286692893225101\n",
      "here 0.12980343979010459\n",
      "be 0.1300846994904699\n",
      "or 0.13188480451077633\n",
      "it 0.13211682975415562\n",
      "help 0.13342779427034904\n",
      "of 0.1390071298535076\n",
      "can 0.14151793690701656\n",
      "the 0.14405452326779952\n",
      "that 0.15072533422893455\n",
      "used 0.15237378072751379\n",
      "also 0.15240135238471658\n",
      "important 0.15281477877876978\n",
      "such 0.1586755601769875\n",
      " length 0.1588805935739867\n",
      "to 0.16253656359775528\n",
      "and 0.17518660733589775\n"
     ]
    }
   ],
   "source": [
    "ranking = np.argsort(components[0])\n",
    "dimensions = training_dataset.index[ranking]\n",
    "weights = components[0][ranking]\n",
    "for i in range(len(dimensions)) :\n",
    "    print(dimensions[i] + ' ' + str(weights[i]))"
   ]
  },
  {
   "cell_type": "markdown",
   "id": "6c5c258f-abad-49ea-874e-608769fc3e7d",
   "metadata": {},
   "source": [
    "# k-Nearest Neighbours"
   ]
  },
  {
   "cell_type": "code",
   "execution_count": 57,
   "id": "822a4e15-08c7-4c0a-bc86-59abb3e1eaba",
   "metadata": {},
   "outputs": [],
   "source": [
    "def k_nearest_neighbours(X_train, y_train, X_test, k = 3):\n",
    "    \"\"\"\n",
    "    Predict labels for the test dataset.\n",
    "    \"\"\"\n",
    "    predictions = []\n",
    "\n",
    "    for test_point in X_test:\n",
    "        # Compute distances to all training points\n",
    "        distances = [np.linalg.norm(train_point - test_point) for train_point in X_train]\n",
    "\n",
    "        k_indices = np.argsort(distances)[:k] # Find indices of k nearest neighbors\n",
    "        k_labels = y_train[k_indices] # Retrieve the labels of the k nearest neighbors\n",
    "        unique_labels, counts = np.unique(k_labels, return_counts=True) # Determine the most common label (majority voting)\n",
    "        while np.count_nonzero(counts == np.max(counts)) != 1 : # In the event of tiebreaks, reduce k. At k = 1 a winner is guaranteed.\n",
    "            k -= 1\n",
    "            unique_labels, counts = np.unique(y_train[np.argsort(distances)[:k]], return_counts=True)\n",
    "        \n",
    "        predictions.append(unique_labels[np.argmax(counts)])\n",
    "    \n",
    "    return np.array(predictions)"
   ]
  },
  {
   "cell_type": "code",
   "execution_count": 58,
   "id": "893d94dd-9812-441b-8950-9a17016c1921",
   "metadata": {},
   "outputs": [
    {
     "name": "stderr",
     "output_type": "stream",
     "text": [
      "No artists with labels found to put in legend.  Note that artists whose label start with an underscore are ignored when legend() is called with no argument.\n"
     ]
    },
    {
     "name": "stdout",
     "output_type": "stream",
     "text": [
      "['dolly-v2-12b' 'koala-13b' 'palm-2' 'RWKV-4-Raven-14B' 'claude-v1'\n",
      " 'dolly-v2-12b' 'oasst-pythia-12b' 'gpt-3.5-turbo' 'alpaca-13b'\n",
      " 'wizardlm-13b' 'gpt-3.5-turbo' 'koala-13b' 'chatglm-6b' 'gpt-4'\n",
      " 'koala-13b' 'koala-13b' 'fastchat-t5-3b' 'claude-v1' 'vicuna-13b' 'human'\n",
      " 'wizardlm-13b']\n",
      "11 out of 21\n"
     ]
    },
    {
     "data": {
      "image/png": "[encoded data removed]",
      "text/plain": [
       "<Figure size 1000x1000 with 1 Axes>"
      ]
     },
     "metadata": {},
     "output_type": "display_data"
    }
   ],
   "source": [
    "training_batches = np.array([transform_to_pc(training_dataset[batch], components[:10]) for batch in training_dataset])\n",
    "training_labels = np.array([batch.split('_')[1] for batch in training_dataset])\n",
    "testing_batches = np.array([transform_to_pc(holdout_dataset[batch], components[:10]) for batch in holdout_dataset])\n",
    "testing_labels = np.array([batch.split('_')[1] for batch in holdout_dataset])\n",
    "\n",
    "predictions = k_nearest_neighbours(training_batches, training_labels, testing_batches, 5)\n",
    "print(predictions)\n",
    "print(str((predictions == testing_labels).sum()) + ' out of ' + str(len(testing_labels)))\n",
    "\n",
    "# Visualization example:\n",
    "plt.figure(figsize=(10, 10))\n",
    "plt.scatter([batch[0] for batch in training_batches], [batch[1] for batch in training_batches], c=[marker_list[batch.split('_')[1]] for batch in training_dataset], alpha=0.05)\n",
    "plt.scatter([batch[0] for batch in testing_batches], [batch[1] for batch in testing_batches], c=[marker_list[batch] for batch in predictions])\n",
    "plt.scatter([batch[0] for batch in testing_batches], [batch[1] for batch in testing_batches], c=[marker_list[batch] for batch in testing_labels], s = 5)\n",
    "plt.xlabel('PCA1')\n",
    "plt.ylabel('PCA2')\n",
    "plt.legend()\n",
    "plt.title('k-NN Classification with PCA-transformed Data')\n",
    "plt.show()"
   ]
  },
  {
   "cell_type": "code",
   "execution_count": 205,
   "id": "dc191a9c-a4af-4fdb-9be7-381c815058ec",
   "metadata": {},
   "outputs": [],
   "source": [
    "def test_suite(hp_n, hp_d, hp_k) :\n",
    "    predictions = {}  # Dictionary to store predictions for each (d, k) pair\n",
    "\n",
    "    for n in range(hp_n) :\n",
    "        print('Run #' + str(n + 1) + ', d = ')\n",
    "        training_dataset, holdout_dataset = holdout(batch_dataset, list(set(authors)), n)\n",
    "        training_dataset, holdout_dataset = common_tokens(training_dataset, holdout_dataset)\n",
    "        training_dataset, holdout_dataset = centre(training_dataset, holdout_dataset)\n",
    "        training_dataset, holdout_dataset = standardise(training_dataset, holdout_dataset)\n",
    "        components, explained_variance = pca_power_iteration(training_dataset, hp_d, 2000, False)\n",
    "        \n",
    "        # for d in range(len(components)) :\n",
    "        for d in tqdm(range(1, hp_d + 1)) :\n",
    "            training_batches = np.array([transform_to_pc(training_dataset[batch], components[:d]) for batch in training_dataset])\n",
    "            training_labels = np.array([batch.split('_')[1] for batch in training_dataset])\n",
    "            testing_batches = np.array([transform_to_pc(holdout_dataset[batch], components[:d]) for batch in holdout_dataset])\n",
    "            \n",
    "            for k in range(1, hp_k + 1) :\n",
    "                if n == 0 :\n",
    "                    predictions[(d, k)] = k_nearest_neighbours(training_batches, training_labels, testing_batches, k)\n",
    "                else :\n",
    "                    predictions[(d, k)] = np.append(predictions[(d, k)], k_nearest_neighbours(training_batches, training_labels, testing_batches, k))\n",
    "                    \n",
    "    return predictions"
   ]
  },
  {
   "cell_type": "code",
   "execution_count": 206,
   "id": "0d1ad049-fd16-4540-82e5-1f628aec7c59",
   "metadata": {},
   "outputs": [
    {
     "name": "stdout",
     "output_type": "stream",
     "text": [
      "Run #1, d = \n"
     ]
    },
    {
     "name": "stderr",
     "output_type": "stream",
     "text": [
      "100%|██████████████████████████████████████████████████████████████████████████████████| 50/50 [00:40<00:00,  1.22it/s]\n"
     ]
    },
    {
     "name": "stdout",
     "output_type": "stream",
     "text": [
      "Run #2, d = \n"
     ]
    },
    {
     "name": "stderr",
     "output_type": "stream",
     "text": [
      "100%|██████████████████████████████████████████████████████████████████████████████████| 50/50 [00:40<00:00,  1.23it/s]\n"
     ]
    },
    {
     "name": "stdout",
     "output_type": "stream",
     "text": [
      "Run #3, d = \n"
     ]
    },
    {
     "name": "stderr",
     "output_type": "stream",
     "text": [
      "100%|██████████████████████████████████████████████████████████████████████████████████| 50/50 [00:40<00:00,  1.22it/s]\n"
     ]
    },
    {
     "name": "stdout",
     "output_type": "stream",
     "text": [
      "Run #4, d = \n"
     ]
    },
    {
     "name": "stderr",
     "output_type": "stream",
     "text": [
      "100%|██████████████████████████████████████████████████████████████████████████████████| 50/50 [00:40<00:00,  1.22it/s]\n"
     ]
    },
    {
     "name": "stdout",
     "output_type": "stream",
     "text": [
      "Run #5, d = \n"
     ]
    },
    {
     "name": "stderr",
     "output_type": "stream",
     "text": [
      "100%|██████████████████████████████████████████████████████████████████████████████████| 50/50 [00:40<00:00,  1.23it/s]\n"
     ]
    },
    {
     "name": "stdout",
     "output_type": "stream",
     "text": [
      "Run #6, d = \n"
     ]
    },
    {
     "name": "stderr",
     "output_type": "stream",
     "text": [
      "100%|██████████████████████████████████████████████████████████████████████████████████| 50/50 [00:40<00:00,  1.23it/s]\n"
     ]
    },
    {
     "name": "stdout",
     "output_type": "stream",
     "text": [
      "Run #7, d = \n"
     ]
    },
    {
     "name": "stderr",
     "output_type": "stream",
     "text": [
      "100%|██████████████████████████████████████████████████████████████████████████████████| 50/50 [00:40<00:00,  1.23it/s]\n"
     ]
    },
    {
     "name": "stdout",
     "output_type": "stream",
     "text": [
      "Run #8, d = \n"
     ]
    },
    {
     "name": "stderr",
     "output_type": "stream",
     "text": [
      "100%|██████████████████████████████████████████████████████████████████████████████████| 50/50 [00:40<00:00,  1.23it/s]\n"
     ]
    },
    {
     "name": "stdout",
     "output_type": "stream",
     "text": [
      "Run #9, d = \n"
     ]
    },
    {
     "name": "stderr",
     "output_type": "stream",
     "text": [
      "100%|██████████████████████████████████████████████████████████████████████████████████| 50/50 [00:40<00:00,  1.23it/s]\n"
     ]
    },
    {
     "name": "stdout",
     "output_type": "stream",
     "text": [
      "Run #10, d = \n"
     ]
    },
    {
     "name": "stderr",
     "output_type": "stream",
     "text": [
      "100%|██████████████████████████████████████████████████████████████████████████████████| 50/50 [00:40<00:00,  1.23it/s]\n"
     ]
    },
    {
     "name": "stdout",
     "output_type": "stream",
     "text": [
      "Run #11, d = \n"
     ]
    },
    {
     "name": "stderr",
     "output_type": "stream",
     "text": [
      "100%|██████████████████████████████████████████████████████████████████████████████████| 50/50 [00:40<00:00,  1.24it/s]\n"
     ]
    },
    {
     "name": "stdout",
     "output_type": "stream",
     "text": [
      "Run #12, d = \n"
     ]
    },
    {
     "name": "stderr",
     "output_type": "stream",
     "text": [
      "100%|██████████████████████████████████████████████████████████████████████████████████| 50/50 [00:40<00:00,  1.24it/s]\n"
     ]
    },
    {
     "name": "stdout",
     "output_type": "stream",
     "text": [
      "Run #13, d = \n"
     ]
    },
    {
     "name": "stderr",
     "output_type": "stream",
     "text": [
      "100%|██████████████████████████████████████████████████████████████████████████████████| 50/50 [00:40<00:00,  1.24it/s]\n"
     ]
    },
    {
     "name": "stdout",
     "output_type": "stream",
     "text": [
      "Run #14, d = \n"
     ]
    },
    {
     "name": "stderr",
     "output_type": "stream",
     "text": [
      "100%|██████████████████████████████████████████████████████████████████████████████████| 50/50 [00:40<00:00,  1.24it/s]\n"
     ]
    },
    {
     "name": "stdout",
     "output_type": "stream",
     "text": [
      "Run #15, d = \n"
     ]
    },
    {
     "name": "stderr",
     "output_type": "stream",
     "text": [
      "100%|██████████████████████████████████████████████████████████████████████████████████| 50/50 [00:40<00:00,  1.24it/s]\n"
     ]
    },
    {
     "name": "stdout",
     "output_type": "stream",
     "text": [
      "Run #16, d = \n"
     ]
    },
    {
     "name": "stderr",
     "output_type": "stream",
     "text": [
      "100%|██████████████████████████████████████████████████████████████████████████████████| 50/50 [00:40<00:00,  1.23it/s]\n"
     ]
    },
    {
     "name": "stdout",
     "output_type": "stream",
     "text": [
      "Run #17, d = \n"
     ]
    },
    {
     "name": "stderr",
     "output_type": "stream",
     "text": [
      "100%|██████████████████████████████████████████████████████████████████████████████████| 50/50 [00:40<00:00,  1.23it/s]\n"
     ]
    },
    {
     "name": "stdout",
     "output_type": "stream",
     "text": [
      "Run #18, d = \n"
     ]
    },
    {
     "name": "stderr",
     "output_type": "stream",
     "text": [
      "100%|██████████████████████████████████████████████████████████████████████████████████| 50/50 [00:40<00:00,  1.23it/s]\n"
     ]
    },
    {
     "name": "stdout",
     "output_type": "stream",
     "text": [
      "Run #19, d = \n"
     ]
    },
    {
     "name": "stderr",
     "output_type": "stream",
     "text": [
      "100%|██████████████████████████████████████████████████████████████████████████████████| 50/50 [00:40<00:00,  1.24it/s]\n"
     ]
    },
    {
     "name": "stdout",
     "output_type": "stream",
     "text": [
      "Run #20, d = \n"
     ]
    },
    {
     "name": "stderr",
     "output_type": "stream",
     "text": [
      "100%|██████████████████████████████████████████████████████████████████████████████████| 50/50 [00:40<00:00,  1.23it/s]\n"
     ]
    },
    {
     "name": "stdout",
     "output_type": "stream",
     "text": [
      "Run #21, d = \n"
     ]
    },
    {
     "name": "stderr",
     "output_type": "stream",
     "text": [
      "100%|██████████████████████████████████████████████████████████████████████████████████| 50/50 [00:40<00:00,  1.23it/s]\n"
     ]
    },
    {
     "name": "stdout",
     "output_type": "stream",
     "text": [
      "Run #22, d = \n"
     ]
    },
    {
     "name": "stderr",
     "output_type": "stream",
     "text": [
      "100%|██████████████████████████████████████████████████████████████████████████████████| 50/50 [00:40<00:00,  1.24it/s]\n"
     ]
    },
    {
     "name": "stdout",
     "output_type": "stream",
     "text": [
      "Run #23, d = \n"
     ]
    },
    {
     "name": "stderr",
     "output_type": "stream",
     "text": [
      "100%|██████████████████████████████████████████████████████████████████████████████████| 50/50 [00:40<00:00,  1.23it/s]\n"
     ]
    },
    {
     "name": "stdout",
     "output_type": "stream",
     "text": [
      "Run #24, d = \n"
     ]
    },
    {
     "name": "stderr",
     "output_type": "stream",
     "text": [
      "100%|██████████████████████████████████████████████████████████████████████████████████| 50/50 [00:40<00:00,  1.23it/s]\n"
     ]
    },
    {
     "name": "stdout",
     "output_type": "stream",
     "text": [
      "Run #25, d = \n"
     ]
    },
    {
     "name": "stderr",
     "output_type": "stream",
     "text": [
      "100%|██████████████████████████████████████████████████████████████████████████████████| 50/50 [00:40<00:00,  1.23it/s]\n"
     ]
    },
    {
     "name": "stdout",
     "output_type": "stream",
     "text": [
      "Run #26, d = \n"
     ]
    },
    {
     "name": "stderr",
     "output_type": "stream",
     "text": [
      "100%|██████████████████████████████████████████████████████████████████████████████████| 50/50 [00:40<00:00,  1.24it/s]\n"
     ]
    },
    {
     "name": "stdout",
     "output_type": "stream",
     "text": [
      "Run #27, d = \n"
     ]
    },
    {
     "name": "stderr",
     "output_type": "stream",
     "text": [
      "100%|██████████████████████████████████████████████████████████████████████████████████| 50/50 [00:40<00:00,  1.24it/s]\n"
     ]
    },
    {
     "name": "stdout",
     "output_type": "stream",
     "text": [
      "Run #28, d = \n"
     ]
    },
    {
     "name": "stderr",
     "output_type": "stream",
     "text": [
      "100%|██████████████████████████████████████████████████████████████████████████████████| 50/50 [00:40<00:00,  1.23it/s]\n"
     ]
    },
    {
     "name": "stdout",
     "output_type": "stream",
     "text": [
      "Run #29, d = \n"
     ]
    },
    {
     "name": "stderr",
     "output_type": "stream",
     "text": [
      "100%|██████████████████████████████████████████████████████████████████████████████████| 50/50 [00:40<00:00,  1.23it/s]\n"
     ]
    },
    {
     "name": "stdout",
     "output_type": "stream",
     "text": [
      "Run #30, d = \n"
     ]
    },
    {
     "name": "stderr",
     "output_type": "stream",
     "text": [
      "100%|██████████████████████████████████████████████████████████████████████████████████| 50/50 [00:40<00:00,  1.23it/s]\n"
     ]
    },
    {
     "data": {
      "text/html": [
       "<div>\n",
       "<style scoped>\n",
       "    .dataframe tbody tr th:only-of-type {\n",
       "        vertical-align: middle;\n",
       "    }\n",
       "\n",
       "    .dataframe tbody tr th {\n",
       "        vertical-align: top;\n",
       "    }\n",
       "\n",
       "    .dataframe thead th {\n",
       "        text-align: right;\n",
       "    }\n",
       "</style>\n",
       "<table border=\"1\" class=\"dataframe\">\n",
       "  <thead>\n",
       "    <tr style=\"text-align: right;\">\n",
       "      <th></th>\n",
       "      <th>d</th>\n",
       "      <th>k</th>\n",
       "      <th>Micro F_1 score</th>\n",
       "    </tr>\n",
       "  </thead>\n",
       "  <tbody>\n",
       "    <tr>\n",
       "      <th>25</th>\n",
       "      <td>26</td>\n",
       "      <td>1</td>\n",
       "      <td>0.592063</td>\n",
       "    </tr>\n",
       "    <tr>\n",
       "      <th>75</th>\n",
       "      <td>26</td>\n",
       "      <td>2</td>\n",
       "      <td>0.592063</td>\n",
       "    </tr>\n",
       "    <tr>\n",
       "      <th>430</th>\n",
       "      <td>31</td>\n",
       "      <td>9</td>\n",
       "      <td>0.592063</td>\n",
       "    </tr>\n",
       "    <tr>\n",
       "      <th>125</th>\n",
       "      <td>26</td>\n",
       "      <td>3</td>\n",
       "      <td>0.590476</td>\n",
       "    </tr>\n",
       "    <tr>\n",
       "      <th>480</th>\n",
       "      <td>31</td>\n",
       "      <td>10</td>\n",
       "      <td>0.588889</td>\n",
       "    </tr>\n",
       "    <tr>\n",
       "      <th>...</th>\n",
       "      <td>...</td>\n",
       "      <td>...</td>\n",
       "      <td>...</td>\n",
       "    </tr>\n",
       "    <tr>\n",
       "      <th>200</th>\n",
       "      <td>1</td>\n",
       "      <td>5</td>\n",
       "      <td>0.195238</td>\n",
       "    </tr>\n",
       "    <tr>\n",
       "      <th>250</th>\n",
       "      <td>1</td>\n",
       "      <td>6</td>\n",
       "      <td>0.195238</td>\n",
       "    </tr>\n",
       "    <tr>\n",
       "      <th>0</th>\n",
       "      <td>1</td>\n",
       "      <td>1</td>\n",
       "      <td>0.193651</td>\n",
       "    </tr>\n",
       "    <tr>\n",
       "      <th>50</th>\n",
       "      <td>1</td>\n",
       "      <td>2</td>\n",
       "      <td>0.193651</td>\n",
       "    </tr>\n",
       "    <tr>\n",
       "      <th>100</th>\n",
       "      <td>1</td>\n",
       "      <td>3</td>\n",
       "      <td>0.193651</td>\n",
       "    </tr>\n",
       "  </tbody>\n",
       "</table>\n",
       "<p>750 rows × 3 columns</p>\n",
       "</div>"
      ],
      "text/plain": [
       "      d   k  Micro F_1 score\n",
       "25   26   1         0.592063\n",
       "75   26   2         0.592063\n",
       "430  31   9         0.592063\n",
       "125  26   3         0.590476\n",
       "480  31  10         0.588889\n",
       "..   ..  ..              ...\n",
       "200   1   5         0.195238\n",
       "250   1   6         0.195238\n",
       "0     1   1         0.193651\n",
       "50    1   2         0.193651\n",
       "100   1   3         0.193651\n",
       "\n",
       "[750 rows x 3 columns]"
      ]
     },
     "execution_count": 206,
     "metadata": {},
     "output_type": "execute_result"
    }
   ],
   "source": [
    "hp_n = 30\n",
    "hp_d = 50\n",
    "hp_k = 15\n",
    "predictions = test_suite(hp_n, hp_d, hp_k)\n",
    "\n",
    "evaluation = {}\n",
    "for (d, k) in predictions :\n",
    "    result = {}\n",
    "    result['confusion_matrix'] = pd.crosstab(list(testing_labels) * hp_n, predictions[(d, k)], rownames = ['Actual'])\n",
    "    result['confusion_matrix'] = result['confusion_matrix'].reindex(columns = result['confusion_matrix'].index.copy(), fill_value = 0)\n",
    "    result['confusion_matrix'].columns.name = 'Predicted'\n",
    "    \n",
    "    precision = []\n",
    "    recall = []\n",
    "    f1_score = []\n",
    "    true_positives = 0\n",
    "    false_positives = 0\n",
    "    false_negatives = 0\n",
    "\n",
    "    for i in range(result['confusion_matrix'].shape[0]) :\n",
    "        if np.sum(result['confusion_matrix'].iloc[:, i]) < 1 :\n",
    "            precision.append(float(0))\n",
    "        else :\n",
    "            precision.append(result['confusion_matrix'].iloc[i, i] / np.sum(result['confusion_matrix'].iloc[:, i]))\n",
    "        recall.append(result['confusion_matrix'].iloc[i, i] / np.sum(result['confusion_matrix'].iloc[i, :]))\n",
    "        if precision[-1] + recall[-1] == 0 :\n",
    "            f1_score.append(float(0))\n",
    "        else :\n",
    "            f1_score.append(2 * precision[-1] * recall[-1] / (precision[-1] + recall[-1]))\n",
    "        \n",
    "        true_positives += result['confusion_matrix'].iloc[i, i]\n",
    "        false_positives += np.sum(result['confusion_matrix'].iloc[:, i]) - result['confusion_matrix'].iloc[i, i]\n",
    "        false_negatives += np.sum(result['confusion_matrix'].iloc[i, :]) - result['confusion_matrix'].iloc[i, i]\n",
    "        \n",
    "    result['measurements'] = pd.DataFrame({'precision': precision, 'recall': recall, 'f1_score': f1_score}, index = result['confusion_matrix'].index)\n",
    "    # Calculate macro F_1.\n",
    "    result['measurements'] = pd.concat([result['measurements'], pd.DataFrame({\n",
    "        'precision': np.mean(result['measurements']['precision']),\n",
    "        'recall': np.mean(result['measurements']['recall']),\n",
    "        'f1_score': np.mean(result['measurements']['f1_score'])\n",
    "    }, index = ['Macro'])])\n",
    "    # Calculate micro F_1.\n",
    "    result['measurements'] = pd.concat([result['measurements'], pd.DataFrame({\n",
    "        'precision': true_positives / (true_positives + false_positives),\n",
    "        'recall': true_positives / (true_positives + false_negatives),\n",
    "        'f1_score': 2 * true_positives / (2 * true_positives + false_positives + false_negatives)\n",
    "    }, index = ['Micro'])])\n",
    "    \n",
    "    evaluation[(d, k)] = result\n",
    "\n",
    "list_evaluation = pd.DataFrame({\n",
    "    'd': [d for _ in range(1, hp_k + 1) for d in range(1, hp_d + 1)],\n",
    "    'k': [k for k in range(1, hp_k + 1) for _ in range(1, hp_d + 1)],\n",
    "    'Micro F_1 score': [evaluation[(d, k)]['measurements']['f1_score'][-1] for k in range(1, hp_k + 1) for d in range(1, hp_d + 1)]\n",
    "})\n",
    "list_evaluation.sort_values(['Micro F_1 score', 'd', 'k'], ascending = [False, True, True])"
   ]
  },
  {
   "cell_type": "code",
   "execution_count": 211,
   "id": "dfccf776-9bae-4de4-b4b8-64a29d39dd15",
   "metadata": {},
   "outputs": [
    {
     "data": {
      "text/html": [
       "<div>\n",
       "<style scoped>\n",
       "    .dataframe tbody tr th:only-of-type {\n",
       "        vertical-align: middle;\n",
       "    }\n",
       "\n",
       "    .dataframe tbody tr th {\n",
       "        vertical-align: top;\n",
       "    }\n",
       "\n",
       "    .dataframe thead th {\n",
       "        text-align: right;\n",
       "    }\n",
       "</style>\n",
       "<table border=\"1\" class=\"dataframe\">\n",
       "  <thead>\n",
       "    <tr style=\"text-align: right;\">\n",
       "      <th></th>\n",
       "      <th>precision</th>\n",
       "      <th>recall</th>\n",
       "      <th>f1_score</th>\n",
       "    </tr>\n",
       "  </thead>\n",
       "  <tbody>\n",
       "    <tr>\n",
       "      <th>RWKV-4-Raven-14B</th>\n",
       "      <td>0.206897</td>\n",
       "      <td>0.200000</td>\n",
       "      <td>0.203390</td>\n",
       "    </tr>\n",
       "    <tr>\n",
       "      <th>alpaca-13b</th>\n",
       "      <td>0.848485</td>\n",
       "      <td>0.933333</td>\n",
       "      <td>0.888889</td>\n",
       "    </tr>\n",
       "    <tr>\n",
       "      <th>chatglm-6b</th>\n",
       "      <td>0.388889</td>\n",
       "      <td>0.466667</td>\n",
       "      <td>0.424242</td>\n",
       "    </tr>\n",
       "    <tr>\n",
       "      <th>claude-instant-v1</th>\n",
       "      <td>0.793103</td>\n",
       "      <td>0.766667</td>\n",
       "      <td>0.779661</td>\n",
       "    </tr>\n",
       "    <tr>\n",
       "      <th>claude-v1</th>\n",
       "      <td>0.774194</td>\n",
       "      <td>0.800000</td>\n",
       "      <td>0.786885</td>\n",
       "    </tr>\n",
       "    <tr>\n",
       "      <th>dolly-v2-12b</th>\n",
       "      <td>0.962963</td>\n",
       "      <td>0.866667</td>\n",
       "      <td>0.912281</td>\n",
       "    </tr>\n",
       "    <tr>\n",
       "      <th>fastchat-t5-3b</th>\n",
       "      <td>0.500000</td>\n",
       "      <td>0.300000</td>\n",
       "      <td>0.375000</td>\n",
       "    </tr>\n",
       "    <tr>\n",
       "      <th>gpt-3.5-turbo</th>\n",
       "      <td>0.583333</td>\n",
       "      <td>0.700000</td>\n",
       "      <td>0.636364</td>\n",
       "    </tr>\n",
       "    <tr>\n",
       "      <th>gpt-4</th>\n",
       "      <td>0.967742</td>\n",
       "      <td>1.000000</td>\n",
       "      <td>0.983607</td>\n",
       "    </tr>\n",
       "    <tr>\n",
       "      <th>gpt4all-13b-snoozy</th>\n",
       "      <td>1.000000</td>\n",
       "      <td>0.500000</td>\n",
       "      <td>0.666667</td>\n",
       "    </tr>\n",
       "    <tr>\n",
       "      <th>guanaco-33b</th>\n",
       "      <td>0.800000</td>\n",
       "      <td>0.400000</td>\n",
       "      <td>0.533333</td>\n",
       "    </tr>\n",
       "    <tr>\n",
       "      <th>human</th>\n",
       "      <td>0.967742</td>\n",
       "      <td>1.000000</td>\n",
       "      <td>0.983607</td>\n",
       "    </tr>\n",
       "    <tr>\n",
       "      <th>koala-13b</th>\n",
       "      <td>0.435897</td>\n",
       "      <td>0.566667</td>\n",
       "      <td>0.492754</td>\n",
       "    </tr>\n",
       "    <tr>\n",
       "      <th>llama-13b</th>\n",
       "      <td>0.812500</td>\n",
       "      <td>0.433333</td>\n",
       "      <td>0.565217</td>\n",
       "    </tr>\n",
       "    <tr>\n",
       "      <th>mpt-7b-chat</th>\n",
       "      <td>0.666667</td>\n",
       "      <td>0.200000</td>\n",
       "      <td>0.307692</td>\n",
       "    </tr>\n",
       "    <tr>\n",
       "      <th>oasst-pythia-12b</th>\n",
       "      <td>0.657895</td>\n",
       "      <td>0.833333</td>\n",
       "      <td>0.735294</td>\n",
       "    </tr>\n",
       "    <tr>\n",
       "      <th>palm-2</th>\n",
       "      <td>0.789474</td>\n",
       "      <td>1.000000</td>\n",
       "      <td>0.882353</td>\n",
       "    </tr>\n",
       "    <tr>\n",
       "      <th>stablelm-tuned-alpha-7b</th>\n",
       "      <td>0.933333</td>\n",
       "      <td>0.466667</td>\n",
       "      <td>0.622222</td>\n",
       "    </tr>\n",
       "    <tr>\n",
       "      <th>vicuna-13b</th>\n",
       "      <td>0.197802</td>\n",
       "      <td>0.600000</td>\n",
       "      <td>0.297521</td>\n",
       "    </tr>\n",
       "    <tr>\n",
       "      <th>vicuna-7b</th>\n",
       "      <td>0.235294</td>\n",
       "      <td>0.266667</td>\n",
       "      <td>0.250000</td>\n",
       "    </tr>\n",
       "    <tr>\n",
       "      <th>wizardlm-13b</th>\n",
       "      <td>0.210526</td>\n",
       "      <td>0.133333</td>\n",
       "      <td>0.163265</td>\n",
       "    </tr>\n",
       "    <tr>\n",
       "      <th>Macro</th>\n",
       "      <td>0.653940</td>\n",
       "      <td>0.592063</td>\n",
       "      <td>0.594773</td>\n",
       "    </tr>\n",
       "    <tr>\n",
       "      <th>Micro</th>\n",
       "      <td>0.592063</td>\n",
       "      <td>0.592063</td>\n",
       "      <td>0.592063</td>\n",
       "    </tr>\n",
       "  </tbody>\n",
       "</table>\n",
       "</div>"
      ],
      "text/plain": [
       "                         precision    recall  f1_score\n",
       "RWKV-4-Raven-14B          0.206897  0.200000  0.203390\n",
       "alpaca-13b                0.848485  0.933333  0.888889\n",
       "chatglm-6b                0.388889  0.466667  0.424242\n",
       "claude-instant-v1         0.793103  0.766667  0.779661\n",
       "claude-v1                 0.774194  0.800000  0.786885\n",
       "dolly-v2-12b              0.962963  0.866667  0.912281\n",
       "fastchat-t5-3b            0.500000  0.300000  0.375000\n",
       "gpt-3.5-turbo             0.583333  0.700000  0.636364\n",
       "gpt-4                     0.967742  1.000000  0.983607\n",
       "gpt4all-13b-snoozy        1.000000  0.500000  0.666667\n",
       "guanaco-33b               0.800000  0.400000  0.533333\n",
       "human                     0.967742  1.000000  0.983607\n",
       "koala-13b                 0.435897  0.566667  0.492754\n",
       "llama-13b                 0.812500  0.433333  0.565217\n",
       "mpt-7b-chat               0.666667  0.200000  0.307692\n",
       "oasst-pythia-12b          0.657895  0.833333  0.735294\n",
       "palm-2                    0.789474  1.000000  0.882353\n",
       "stablelm-tuned-alpha-7b   0.933333  0.466667  0.622222\n",
       "vicuna-13b                0.197802  0.600000  0.297521\n",
       "vicuna-7b                 0.235294  0.266667  0.250000\n",
       "wizardlm-13b              0.210526  0.133333  0.163265\n",
       "Macro                     0.653940  0.592063  0.594773\n",
       "Micro                     0.592063  0.592063  0.592063"
      ]
     },
     "execution_count": 211,
     "metadata": {},
     "output_type": "execute_result"
    }
   ],
   "source": [
    "evaluation[(26, 1)]['measurements']"
   ]
  },
  {
   "cell_type": "code",
   "execution_count": 272,
   "id": "06ef436c-596b-4c49-bd6f-779e7ba3683a",
   "metadata": {},
   "outputs": [
    {
     "data": {
      "image/png": "[encoded data removed]",
      "text/plain": [
       "<Figure size 1500x600 with 2 Axes>"
      ]
     },
     "metadata": {},
     "output_type": "display_data"
    }
   ],
   "source": [
    "plt.figure(figsize=(15, 6))\n",
    "\n",
    "# Box plot grouped by 'k'\n",
    "plt.subplot(1, 2, 1)\n",
    "data_by_k = [list_evaluation[list_evaluation['k'] == k]['Micro F_1 score'] for k in sorted(list_evaluation['k'].unique())]\n",
    "box_k = plt.boxplot(data_by_k, showfliers=False)  # Capture boxplot object\n",
    "plt.tick_params(axis='x', which='both', bottom=False, labelbottom=False)\n",
    "plt.title('Micro F_1 Score Distribution by k')\n",
    "plt.ylabel('Micro F_1 Score')\n",
    "\n",
    "# Add 'k' values directly under each box\n",
    "for i in range(0, len(box_k['caps']), 2):\n",
    "    plt.text(i / 2 + 1, box_k['caps'][i + 1].get_ydata()[0] + 0.001, int(i / 2 + 1), ha='center', va='bottom', alpha = 0.5)\n",
    "\n",
    "# Box plot grouped by 'd'\n",
    "plt.subplot(1, 2, 2)\n",
    "data_by_d = [list_evaluation[list_evaluation['d'] == d]['Micro F_1 score'] for d in sorted(list_evaluation['d'].unique())]\n",
    "box_d = plt.boxplot(data_by_d, showfliers=False)  # Capture boxplot object\n",
    "plt.tick_params(axis='x', which='both', bottom=False, labelbottom=False)\n",
    "plt.title('Micro F_1 Score Distribution by d')\n",
    "plt.ylabel('Micro F_1 Score')\n",
    "\n",
    "# Add 'd' values directly under each box\n",
    "for i in range(0, len(box_d['caps']), 2):\n",
    "    if i % 4 == 0 :\n",
    "        plt.text(i / 2 + 1, box_d['caps'][i + 1].get_ydata()[0] + 0.001, int(i / 2 + 1), ha='center', va='bottom', alpha = 0.5)\n",
    "    else :\n",
    "        plt.text(i / 2 + 1, box_d['caps'][i].get_ydata()[0] - 0.002, int(i / 2 + 1), ha='center', va='top', alpha = 0.5)\n",
    "\n",
    "plt.tight_layout()\n",
    "plt.show()"
   ]
  }
 ],
 "metadata": {
  "kernelspec": {
   "display_name": "Python 3 (ipykernel)",
   "language": "python",
   "name": "python3"
  },
  "language_info": {
   "codemirror_mode": {
    "name": "ipython",
    "version": 3
   },
   "file_extension": ".py",
   "mimetype": "text/x-python",
   "name": "python",
   "nbconvert_exporter": "python",
   "pygments_lexer": "ipython3",
   "version": "3.10.1"
  }
 },
 "nbformat": 4,
 "nbformat_minor": 5
}
